{
 "cells": [
  {
   "cell_type": "markdown",
   "metadata": {},
   "source": [
    "<h1 style=\"color:rgb(0,120,170)\">Assignment 6: Logistic Regression</h1>"
   ]
  },
  {
   "cell_type": "markdown",
   "metadata": {},
   "source": [
    "This material, no matter whether in printed or electronic form, may be used for personal and non-commercial educational use only. Any reproduction of this material, no matter whether as a whole or in parts, no matter whether in printed or in electronic form, requires explicit prior acceptance of the authors."
   ]
  },
  {
   "cell_type": "markdown",
   "metadata": {},
   "source": [
    "<h2 style=\"color:rgb(0,120,170)\">Automatic Testing Guidelines</h2>\n",
    "\n",
    "Automatic unittesting requires you, as a student, to submit a notebook which contains strictly defined objects.\n",
    "Strictness of definition consists of unified shapes, dtypes, variable names and more.\n",
    "\n",
    "Within the notebook, we provide detailed instruction which you should follow in order to maximise your final grade.\n",
    "\n",
    "**Name your notebook properly**, follow the pattern in the template name:\n",
    "\n",
    "**Assignment_N_NameSurname_matrnumber**\n",
    "<ol>\n",
    "    <li>N - number of assignment</li>\n",
    "    <li>NameSurname - your full name where every part of the name starts with a capital letter, no spaces</li>\n",
    "    <li>matrnumber - you student number on ID card (without k, potenitially with a leading zero)</li>\n",
    "</ol>\n",
    "\n",
    "Don't add any cells but use the ones provided by us. You may notice that most cells are tagged such that the unittest routine can recognise them.\n",
    "\n",
    "Don't import any additional modules, everything you need for solving the tasks is already there.\n",
    "\n",
    "We highly recommend you to develop your code within the provided cells. You can implement helper functions where needed unless you put them in the same cell they are actually called. Always make sure that implemented functions have the correct output and given variables contain the correct data type.\n",
    "\n",
    "**Note:** Never use variables you defined in another cell in your functions directly; always pass them to the function as a parameter. In the unitest they won't be available either."
   ]
  },
  {
   "cell_type": "code",
   "execution_count": 1,
   "metadata": {
    "tags": [
     "imports"
    ]
   },
   "outputs": [],
   "source": [
    "import numpy as np\n",
    "from sklearn.metrics import roc_curve, auc\n",
    "from sklearn.utils import shuffle\n",
    "import matplotlib\n",
    "import matplotlib.pyplot as plt\n",
    "from IPython.utils import io\n",
    "RSEED = 212"
   ]
  },
  {
   "cell_type": "markdown",
   "metadata": {},
   "source": [
    "The goal of this exercise is to implement logistic regression from scratch using only numpy. Start with the following tasks:\n",
    "\n",
    "* Implement the formula for the gradient computed in the lecture. In particular you should implement a function \n",
    "`logistic_gradient(w, x, y)` that takes a parameter vector\n",
    "$\\mathbf{w}$, a data matrix $\\mathbf{X}$ and a label vector\n",
    "$\\mathbf{y}$ and returns the gradient $\\frac{\\partial L}{\\partial\n",
    "\\mathbf{w}}$, where $L$ is the negative log-likelihood for the Bernoulli distribution, i.e. the cross-entropy loss.\n",
    "\n",
    "* Implement a function `cost(w, x, y)`, that takes the same parameters but returns the cross-entropy loss.\n",
    "\n",
    "* Test whether the gradient calculated by `logistic_gradient(w, x, y)` is correct via Gradient Checking. To do so, implement\n",
    "a function `numerical_gradient(w, x, y)` that takes the same parameters\n",
    "as `logistic_gradient`, but calculates the gradient numerically via the central difference quotient, using $\\epsilon = 10^{-4}$ as suggested in the lecture slides.\n",
    "\n",
    "* Implement a function `initialize(seed,n,d)` that generates a random data matrix consisting of 5 data points with 10 features drawn from a standard normal distribution as well as corresponding random binary labels and a random weight vector, whose entries again stem from the standard normal distribution. To generate the distributions use `np.random.normal` and `np.random.randint`.\n",
    "\n",
    "* Use the weights, data and labels as input for both the analytical and numerical gradient and compare the outputs by implementing the function `comparison(a,b)` which checks whether the inputs $a$ and $b$ don't deviate more than 1e-09 from each other. **Hint:** Have a look at np.allclose... "
   ]
  },
  {
   "cell_type": "markdown",
   "metadata": {},
   "source": [
    "<h3 style=\"color:rgb(210,90,80)\">Code (40 points):</h3>"
   ]
  },
  {
   "cell_type": "code",
   "execution_count": 96,
   "metadata": {
    "scrolled": true,
    "tags": [
     "loggrad"
    ]
   },
   "outputs": [],
   "source": [
    "\"\"\"\n",
    "Function that computes the logistic gradient.\n",
    "@param w, np ndarray, weights\n",
    "@param x, np ndarray, data matrix\n",
    "@param y, np ndarray, data vector\n",
    "\n",
    "@output gradient, np ndarray, computed gradient\n",
    "\"\"\"\n",
    "def logistic_gradient(w, x, y):  \n",
    "    s = 1 / (1 + np.exp(-(w.T.dot(x))))\n",
    "#     print('w',w.shape)\n",
    "#     print('x',x.shape)\n",
    "#     print('y',y.shape)\n",
    "#     print('s',s.shape)\n",
    "    gradient = (x).dot((s - y).T)\n",
    "    \n",
    "    \n",
    "    return gradient\n",
    "\n",
    "\"\"\"\n",
    "Function that computes the cross-entropy loss.\n",
    "@param w, np ndarray, weights\n",
    "@param x, np ndarray, data matrix\n",
    "@param y, np ndarray, data vector\n",
    "\n",
    "@output costs, float, computed cost\n",
    "\"\"\"\n",
    "def cost(w, x, y):\n",
    "   \n",
    "    s = 1 / (1 + np.exp(-(w.T.dot(x))))\n",
    "    costs = y * np.log(s) + (1 - y) * np.log(1 - s)\n",
    "    \n",
    "    return -costs\n",
    "\n",
    "\"\"\"\n",
    "Function that computes the numerical gradient.\n",
    "@param w, np ndarray, weights\n",
    "@param x, np ndarray, data matrix\n",
    "@param y, np ndarray, data vector\n",
    "\n",
    "@output dw, np ndarray, computed numerical gradient\n",
    "\"\"\"\n",
    "def numerical_gradient(w, x, y):\n",
    "    epsilon = 1e-4\n",
    "    dw = []\n",
    "    w_copy = w.copy()\n",
    "    \n",
    "    for i in range(len(w)):\n",
    "        w_copy[i] += epsilon \n",
    "        cost_plus = np.sum(cost(w_copy,x,y))\n",
    "        \n",
    "        w_copy[i] -= 2*epsilon \n",
    "        cost_minus = np.sum(cost(w_copy,x,y))\n",
    "        \n",
    "        dw.append([(cost_plus - cost_minus)/(2*epsilon)])\n",
    "        w_copy[i] += epsilon\n",
    "        \n",
    "    return np.array(dw)\n",
    "\n",
    "\"\"\"\n",
    "Function that initializes X,y and the weights.\n",
    "@param seed, int, seed for random data generation\n",
    "@param n, int, number of data points\n",
    "@param d, int, number of features\n",
    "\n",
    "\n",
    "@output X_random, np ndarray, randomly generated data matrix\n",
    "@output y_random, np ndarray, randomly generated data vector\n",
    "@output w_random, np ndarray, randomly generated weights\n",
    "\"\"\"\n",
    "def initialize(seed,n,d):\n",
    "    np.random.seed(seed)\n",
    "    X_random = np.random.standard_normal(size=(d,n))\n",
    "    y_random = np.random.randint(low=0, high=2, size=(1,n))\n",
    "    w_random = np.random.standard_normal(size=(d,1))\n",
    "    \n",
    "    return X_random,y_random,w_random\n",
    "\n",
    "\"\"\"\n",
    "Function that compare two arrays whether they are similar or not.\n",
    "@param a, np ndarray, input array for comparison nr. 1\n",
    "@param b, np ndarray, input array for comparison nr. 2\n",
    "\n",
    "@output comp, boolean, True if arrays a and b are similar (within tolerance), False if not\n",
    "\"\"\"\n",
    "def comparison(a,b):\n",
    "#     print('a',a.shape)\n",
    "#     print(b.shape)\n",
    "    comp =  np.allclose(a,b)\n",
    "    \n",
    "    \n",
    "    return comp"
   ]
  },
  {
   "cell_type": "code",
   "execution_count": 97,
   "metadata": {
    "scrolled": false,
    "tags": [
     "exec1"
    ]
   },
   "outputs": [
    {
     "name": "stdout",
     "output_type": "stream",
     "text": [
      "X = [[ 0.22934691 -0.14879703 -1.13444518 -1.07508702 -0.36619224]\n",
      " [-0.95191728 -0.85861473 -0.67974795  0.68845059  0.1948118 ]\n",
      " [-0.4486308   0.50426521 -0.58570229  0.41588808  0.19039122]\n",
      " [ 0.67263512  0.81036887  1.61211999 -2.4590425   0.26708358]\n",
      " [ 0.29480346  1.07211943  0.85752031  1.11543398  0.68396215]\n",
      " [ 0.68649908 -0.05759227  0.20913827  0.40064854 -1.23310935]\n",
      " [ 0.7979281  -0.10941365 -0.36531184 -0.64907323 -1.10113995]\n",
      " [ 0.13652613 -0.55446718  1.69952363  0.03674109  0.37669998]\n",
      " [ 0.96435094  0.21656631  0.23643905 -0.69816277 -0.19998787]\n",
      " [-0.93434808  1.11417079  1.801827   -0.1510894   0.52064031]] \n",
      "\n",
      "y = [[0 0 1 0 1]] \n",
      "\n",
      "w =  [[ 0.77923677]\n",
      " [ 0.32106637]\n",
      " [-1.96031022]\n",
      " [ 0.68532421]\n",
      " [-0.91475214]\n",
      " [-0.39098802]\n",
      " [-0.29178856]\n",
      " [ 0.24076716]\n",
      " [ 0.16036923]\n",
      " [-1.1162128 ]] \n",
      "\n",
      "Logistic gradient:\n",
      " [[ 1.28372891]\n",
      " [-0.44035772]\n",
      " [-0.03100865]\n",
      " [-0.85404905]\n",
      " [-0.80652839]\n",
      " [ 1.2623177 ]\n",
      " [ 1.68456984]\n",
      " [-1.46283908]\n",
      " [ 0.7648794 ]\n",
      " [-2.47149713]] \n",
      "\n",
      "Numerical gradient:\n",
      " [[ 1.28372891]\n",
      " [-0.44035772]\n",
      " [-0.03100865]\n",
      " [-0.85404905]\n",
      " [-0.80652839]\n",
      " [ 1.26231769]\n",
      " [ 1.68456984]\n",
      " [-1.46283908]\n",
      " [ 0.7648794 ]\n",
      " [-2.47149713]] \n",
      "\n",
      "Difference smaller than 1e-09:  True\n"
     ]
    }
   ],
   "source": [
    "X_random, y_random, w_random=initialize(RSEED,5,10)\n",
    "\n",
    "print(\"X =\",X_random,\"\\n\")\n",
    "print(\"y =\",y_random,\"\\n\")\n",
    "print(\"w = \",w_random,\"\\n\")\n",
    "print(\"Logistic gradient:\\n\",logistic_gradient(w_random,X_random,y_random),\"\\n\")\n",
    "print(\"Numerical gradient:\\n\",numerical_gradient(w_random,X_random,y_random),\"\\n\")\n",
    "print(\"Difference smaller than 1e-09: \",comparison(logistic_gradient(w_random,X_random,y_random),numerical_gradient(w_random,X_random,y_random)))"
   ]
  },
  {
   "cell_type": "markdown",
   "metadata": {},
   "source": [
    "Next we intend to apply logistic regression on a real data set.\n",
    "\n",
    "* Implement a function `fitLogRegModel(x_train, y_train, eta=1e-4, max_iter=1e5)` that uses Logistic Regression with Gradient Descent to train classifiers on the training set. Use randomly initialized weights, drawn from a uniform distribution between $-1$ and $1$, a learning rate $\\eta$ (eta) of $10^{-4}$ and a maximum number of iterations of $1e5$. Furthermore the algorithm should stop if the difference between the loss of the last iteration step and the current loss is less than $\\eta$. Also print the losses in $1000$ step intevals. The function should return the model weights(np.array) and the number of iterations used while training.\n",
    "* Furthermore, implement a function `predictLogReg(w, x)` that returns the prediction for the given parameter vector $\\mathbf{w}$ and feature vector $\\mathbf{x}$ (np.array).\n",
    "\n",
    "**Hint:** for intialization of the weights use `np.random.uniform`."
   ]
  },
  {
   "cell_type": "markdown",
   "metadata": {},
   "source": [
    "<h3 style=\"color:rgb(208,90,80)\">Code (30 points)</h3>\n"
   ]
  },
  {
   "cell_type": "code",
   "execution_count": 138,
   "metadata": {
    "tags": [
     "fitlogreg"
    ]
   },
   "outputs": [],
   "source": [
    "\"\"\"\n",
    "Function trains a Logistic Regression Model with Gradient Descent.\n",
    "@param x_train, np ndarray, data matrix\n",
    "@param y_train, np ndarray, data vector\n",
    "@param eta, float, learning rate\n",
    "@param max_iter, int, maximum number of iterations before function terminates\n",
    "@param seed, int, seed for the random initialization of the weights\n",
    "\n",
    "@output w, np ndarray, computed weights\n",
    "@output iterations, int, number of iterations used while training\n",
    "\"\"\"\n",
    "def fitLogRegModel(x_train, y_train, eta=1e-4, max_iter=100000,seed=RSEED):\n",
    "    x, y = x_train, y_train\n",
    "    w = np.random.uniform(low=-1.0, high=1.0, size=(x.shape[0],1))\n",
    "    iterations = 0\n",
    "    last_loss = 0\n",
    "    \n",
    "    for i in range(max_iter):\n",
    "#         print('w',w.shape)\n",
    "#         print('log',logistic_gradient(w, x, y).shape)\n",
    "        loss = np.sum(cost(w, x, y))\n",
    "    \n",
    "        w_1 = w - eta * logistic_gradient(w, x, y)\n",
    "        \n",
    "        if abs(loss - last_loss) < eta:\n",
    "            print(f\"\\nOptimum found at iteration {i}\")\n",
    "            return w_1, i\n",
    "        \n",
    "        if i in range(0, max_iter, 1000):\n",
    "            print(f\"Loss for W_{i}: {loss}\")\n",
    "            \n",
    "        w = w_1\n",
    "        iterations += iterations\n",
    "        last_loss = loss\n",
    "        \n",
    "    print(f\"The maximum number of iterations ({max_iter}) have been reached.\")\n",
    "    \n",
    "    return w_1, iterations\n",
    "\n",
    "\"\"\"\n",
    "Function that computes the predictions for Logistic regression.\n",
    "@param w, np ndarray, weights\n",
    "@param x, np ndarray, data matrix\n",
    "\n",
    "@output pred, np ndarray, predictions\n",
    "\"\"\"\n",
    "def predictLogReg(w, x):\n",
    "    pred = 1 / (1 + np.exp(-(w.T.dot(x))))\n",
    "    return pred.squeeze()"
   ]
  },
  {
   "cell_type": "markdown",
   "metadata": {},
   "source": [
    "In the following cell the data set `DataSet_LR_a.csv` is loaded and split into a training set and a test set ($50\\,\\%$ each). Now you should:\n",
    "* classify samples as class `1` if the Logistic Regression returns values $\\geq 0.5$ and `0` otherwise. Do this in the function `confusion_matrix_acc(predictions,true_labels,threshold)` which has to be implemented by you and use it to compute the confusion matrix and to calculate Accuracy and Balanced Accuracy for the training and on the test set respectively. The ouput of this function should be a tuple of 8 float values (not rounded). \n",
    "* Provide ROC curves of the classifiers on the test samples and compute the corresponding AUC. Label the axes appropriately. Use the functions `roc_curve` and `auc` from `sklearn.metrics` for this purpose."
   ]
  },
  {
   "cell_type": "markdown",
   "metadata": {},
   "source": [
    "<h3 style=\"color:rgb(208,90,80)\">Code (30 points)</h3>\n"
   ]
  },
  {
   "cell_type": "code",
   "execution_count": 139,
   "metadata": {
    "tags": [
     "exec2"
    ]
   },
   "outputs": [
    {
     "name": "stdout",
     "output_type": "stream",
     "text": [
      "[0. 1. 0. 0. 0. 1. 0. 0. 1. 1. 0. 0. 0. 1. 0. 1. 1. 1. 0. 1. 1. 0. 0. 0.\n",
      " 1. 1. 1. 1. 0. 1. 1. 1. 1. 1. 0. 0. 1. 1. 1. 1. 0. 1. 1. 1. 1. 0. 1. 1.\n",
      " 1. 1. 1. 0. 0. 1. 0. 0. 0. 0. 1. 0.]\n"
     ]
    },
    {
     "name": "stderr",
     "output_type": "stream",
     "text": [
      "<ipython-input-139-dcd7b162666d>:14: DeprecationWarning: `np.int` is a deprecated alias for the builtin `int`. To silence this warning, use `int` by itself. Doing this will not modify any behavior and is safe. When replacing `np.int`, you may wish to use e.g. `np.int64` or `np.int32` to specify the precision. If you wish to review your current use, check the release note link for additional information.\n",
      "Deprecated in NumPy 1.20; for more details and guidance: https://numpy.org/devdocs/release/1.20.0-notes.html#deprecations\n",
      "  X_train=X[:np.int(X.shape[0]/2)]\n",
      "<ipython-input-139-dcd7b162666d>:15: DeprecationWarning: `np.int` is a deprecated alias for the builtin `int`. To silence this warning, use `int` by itself. Doing this will not modify any behavior and is safe. When replacing `np.int`, you may wish to use e.g. `np.int64` or `np.int32` to specify the precision. If you wish to review your current use, check the release note link for additional information.\n",
      "Deprecated in NumPy 1.20; for more details and guidance: https://numpy.org/devdocs/release/1.20.0-notes.html#deprecations\n",
      "  X_test=X[np.int(X.shape[0]/2):]\n",
      "<ipython-input-139-dcd7b162666d>:16: DeprecationWarning: `np.int` is a deprecated alias for the builtin `int`. To silence this warning, use `int` by itself. Doing this will not modify any behavior and is safe. When replacing `np.int`, you may wish to use e.g. `np.int64` or `np.int32` to specify the precision. If you wish to review your current use, check the release note link for additional information.\n",
      "Deprecated in NumPy 1.20; for more details and guidance: https://numpy.org/devdocs/release/1.20.0-notes.html#deprecations\n",
      "  y_train=y[:np.int(len(y)/2)]\n",
      "<ipython-input-139-dcd7b162666d>:17: DeprecationWarning: `np.int` is a deprecated alias for the builtin `int`. To silence this warning, use `int` by itself. Doing this will not modify any behavior and is safe. When replacing `np.int`, you may wish to use e.g. `np.int64` or `np.int32` to specify the precision. If you wish to review your current use, check the release note link for additional information.\n",
      "Deprecated in NumPy 1.20; for more details and guidance: https://numpy.org/devdocs/release/1.20.0-notes.html#deprecations\n",
      "  y_test=y[np.int(len(y)/2):]\n"
     ]
    },
    {
     "data": {
      "image/png": "[encoded data removed]",
      "text/plain": [
       "<Figure size 432x288 with 1 Axes>"
      ]
     },
     "metadata": {
      "needs_background": "light"
     },
     "output_type": "display_data"
    }
   ],
   "source": [
    "#nothing to do here\n",
    "# Read data, split into X(features) and y(labels)\n",
    "Z = np.genfromtxt('DataSet_LR_a.csv', delimiter=',',skip_header=1)\n",
    "X, y = Z[:,:-1], Z[:,-1]\n",
    "X = np.hstack((np.ones((X.shape[0],1)),X))   #prepend ones for intercept\n",
    "\n",
    "# Plot data distribution\n",
    "color= ['red' if elem==1 else 'blue' for elem in y ]\n",
    "plt.scatter(X[:,1], X[:,2], c=color)\n",
    "plt.xlabel('x1')\n",
    "plt.ylabel('x2')\n",
    "plt.title('Complete dataset')\n",
    "# Split into test and training set\n",
    "X_train=X[:np.int(X.shape[0]/2)]\n",
    "X_test=X[np.int(X.shape[0]/2):]\n",
    "y_train=y[:np.int(len(y)/2)]\n",
    "y_test=y[np.int(len(y)/2):]\n",
    "print(y_train)"
   ]
  },
  {
   "cell_type": "code",
   "execution_count": 140,
   "metadata": {
    "scrolled": true,
    "tags": [
     "exec3"
    ]
   },
   "outputs": [
    {
     "name": "stdout",
     "output_type": "stream",
     "text": [
      "Loss for W_0: 41.66053623530603\n",
      "Loss for W_1000: 33.78565259952165\n",
      "Loss for W_2000: 31.56198436108182\n",
      "Loss for W_3000: 29.809160994420235\n",
      "Loss for W_4000: 28.3777578267256\n",
      "Loss for W_5000: 27.1943853872186\n",
      "Loss for W_6000: 26.204803297517046\n",
      "Loss for W_7000: 25.3684174112432\n",
      "Loss for W_8000: 24.65458564197233\n",
      "Loss for W_9000: 24.039934927359553\n",
      "Loss for W_10000: 23.506434360920867\n",
      "Loss for W_11000: 23.040014187863743\n",
      "Loss for W_12000: 22.629572121199335\n",
      "Loss for W_13000: 22.266253123731776\n",
      "Loss for W_14000: 21.942922623560033\n",
      "Loss for W_15000: 21.65377733653337\n",
      "Loss for W_16000: 21.39405475930108\n",
      "Loss for W_17000: 21.159814061853012\n",
      "Loss for W_18000: 20.947769149154663\n",
      "Loss for W_19000: 20.755160219483937\n",
      "Loss for W_20000: 20.579654010782345\n",
      "Loss for W_21000: 20.419265632033984\n",
      "Loss for W_22000: 20.272296787257186\n",
      "Loss for W_23000: 20.137286560730807\n",
      "Loss for W_24000: 20.012971910418578\n",
      "Loss for W_25000: 19.898255726170447\n",
      "Loss for W_26000: 19.792180828583238\n",
      "\n",
      "Optimum found at iteration 26267\n",
      "The learnt weights are: w = [[-2.26683535]\n",
      " [ 6.1399558 ]\n",
      " [-1.23067918]]\n"
     ]
    }
   ],
   "source": [
    "#nothing to do here\n",
    "weights,_ = fitLogRegModel(X_train.T,y_train)\n",
    "print(\"The learnt weights are: w =\",weights)"
   ]
  },
  {
   "cell_type": "code",
   "execution_count": 141,
   "metadata": {
    "tags": [
     "exec4"
    ]
   },
   "outputs": [],
   "source": [
    "#nothing to do here\n",
    "prediction_train = predictLogReg(weights,X_train.T)\n",
    "prediction_test = predictLogReg(weights,X_test.T)"
   ]
  },
  {
   "cell_type": "code",
   "execution_count": 142,
   "metadata": {
    "scrolled": false,
    "tags": [
     "plots1"
    ]
   },
   "outputs": [
    {
     "data": {
      "text/plain": [
       "Text(0.5, 1.0, 'Test dataset - predictions')"
      ]
     },
     "execution_count": 142,
     "metadata": {},
     "output_type": "execute_result"
    },
    {
     "data": {
      "text/plain": [
       "<Figure size 432x288 with 0 Axes>"
      ]
     },
     "metadata": {},
     "output_type": "display_data"
    },
    {
     "data": {
      "image/png": "[encoded data removed]",
      "text/plain": [
       "<Figure size 864x720 with 4 Axes>"
      ]
     },
     "metadata": {
      "needs_background": "light"
     },
     "output_type": "display_data"
    }
   ],
   "source": [
    "# Nothing to do here\n",
    "# Plot training and test dataset\n",
    "# Plot predictions for training and test dataset\n",
    "\n",
    "fig = plt.figure()\n",
    "fig = plt.figure(figsize = (12,10))\n",
    "plt.subplot(2, 2, 1)\n",
    "color= ['red' if elem>0.5 else 'blue' for elem in y_train ]\n",
    "plt.scatter(X_train[:,1], X_train[:,2], c=color,label='the data')\n",
    "plt.xlabel('x1')\n",
    "plt.ylabel('x2')\n",
    "plt.title('Training dataset')\n",
    "\n",
    "plt.subplot(2, 2, 2)\n",
    "color= ['red' if elem>0.5 else 'blue' for elem in prediction_train ]\n",
    "plt.scatter(X_train[:,1], X_train[:,2], c=color,label='the data')\n",
    "plt.xlabel('x1')\n",
    "plt.ylabel('x2')\n",
    "plt.title('Training dataset - predictions')\n",
    "\n",
    "plt.subplot(2, 2, 3)\n",
    "color= ['red' if elem>0.5 else 'blue' for elem in y_test ]\n",
    "plt.scatter(X_test[:,1], X_test[:,2], c=color,label='the data')\n",
    "plt.xlabel('x1')\n",
    "plt.ylabel('x2')\n",
    "plt.title('Test dataset')\n",
    "\n",
    "plt.subplot(2, 2, 4)\n",
    "color= ['red' if elem>0.5 else 'blue' for elem in prediction_test ]\n",
    "plt.scatter(X_test[:,1], X_test[:,2], c=color,label='the data')\n",
    "plt.xlabel('x1')\n",
    "plt.ylabel('x2')\n",
    "plt.title('Test dataset - predictions')"
   ]
  },
  {
   "cell_type": "code",
   "execution_count": 152,
   "metadata": {
    "scrolled": true,
    "tags": [
     "acc"
    ]
   },
   "outputs": [],
   "source": [
    "\"\"\"\n",
    "Function that computes the predictions for Logistic regression.\n",
    "@param predictions, np ndarray, predicted values\n",
    "@param true_labels, np ndarray, true labels - entries are either 0 or 1\n",
    "\n",
    "@output pos, float, nr of positive (true) samples\n",
    "@output neg, float, nr of negative (true) samples\n",
    "@output tp, float, nr of correctly classified positive samples\n",
    "@output tn, float, nr of correctly classified negative samples\n",
    "@output fp, float, nr of wrongly classified negative samples\n",
    "@output fn, float, nr of wrongly classified positive samples\n",
    "@output acc, float, accuracy\n",
    "@output balanced_acc, float, balanced accuracy\n",
    "\"\"\"\n",
    "def confusion_matrix_acc(predictions,true_labels,threshold=0.5):    \n",
    "    pos = np.zeros_like(predictions)\n",
    "    neg = np.zeros_like(predictions)\n",
    "    pos[predictions >= threshold] = 1 \n",
    "    neg[predictions < threshold] = 1\n",
    "    \n",
    "    tp = np.sum(pos[true_labels==1])\n",
    "    tn = np.sum(neg[true_labels==0])\n",
    "    fp = np.sum(pos[true_labels==0])\n",
    "    fn = np.sum(neg[true_labels==1])\n",
    "    \n",
    "    acc = (tp+tn) / (tp+tn+fp+fn)\n",
    "    tpr = tp/(tp+fn)\n",
    "    tnr = tn/(tn+fp)\n",
    "    balanced_acc = (tpr+tnr) / 2\n",
    "\n",
    "    return (pos,neg,tp,tn,fp,fn,acc,balanced_acc)"
   ]
  },
  {
   "cell_type": "code",
   "execution_count": 153,
   "metadata": {
    "tags": [
     "exec5"
    ]
   },
   "outputs": [
    {
     "name": "stdout",
     "output_type": "stream",
     "text": [
      "Train samples:\n",
      "\n",
      "Positive samples: [0. 1. 0. 0. 0. 0. 0. 0. 1. 1. 1. 0. 0. 1. 0. 1. 1. 1. 1. 1. 1. 0. 0. 0.\n",
      " 1. 1. 1. 1. 1. 1. 1. 1. 1. 1. 0. 0. 1. 1. 1. 1. 1. 1. 1. 0. 1. 0. 1. 1.\n",
      " 1. 1. 1. 0. 0. 1. 0. 0. 0. 0. 1. 1.]\n",
      "Negative samples: [1. 0. 1. 1. 1. 1. 1. 1. 0. 0. 0. 1. 1. 0. 1. 0. 0. 0. 0. 0. 0. 1. 1. 1.\n",
      " 0. 0. 0. 0. 0. 0. 0. 0. 0. 0. 1. 1. 0. 0. 0. 0. 0. 0. 0. 1. 0. 1. 0. 0.\n",
      " 0. 0. 0. 1. 1. 0. 1. 1. 1. 1. 0. 0.]\n",
      "True positives: 32.0\n",
      "True negatives: 21.0\n",
      "False positives: 5.0\n",
      "False negatives: 2.0\n",
      "Accuracy: 0.8833333333333333\n",
      "Balanced accuray: 0.8744343891402715\n",
      "\n",
      "Test samples:\n",
      "\n",
      "Positive samples: [1. 1. 0. 1. 0. 1. 1. 1. 0. 0. 0. 0. 1. 0. 1. 1. 1. 0. 0. 0. 1. 1. 1. 1.\n",
      " 1. 0. 1. 1. 1. 0. 1. 1. 1. 0. 1. 0. 1. 1. 0. 0. 1. 0. 0. 0. 1. 1. 0. 1.\n",
      " 1. 0. 0. 0. 1. 0. 0. 0. 1. 0. 1. 0.]\n",
      "Negative samples: [0. 0. 1. 0. 1. 0. 0. 0. 1. 1. 1. 1. 0. 1. 0. 0. 0. 1. 1. 1. 0. 0. 0. 0.\n",
      " 0. 1. 0. 0. 0. 1. 0. 0. 0. 1. 0. 1. 0. 0. 1. 1. 0. 1. 1. 1. 0. 0. 1. 0.\n",
      " 0. 1. 1. 1. 0. 1. 1. 1. 0. 1. 0. 1.]\n",
      "True positives: 26.0\n",
      "True negatives: 28.0\n",
      "False positives: 6.0\n",
      "False negatives: 0.0\n",
      "Accuracy: 0.9\n",
      "Balanced accuray: 0.9117647058823529\n"
     ]
    }
   ],
   "source": [
    "pos_train,neg_train,tp_train,tn_train,fp_train,fn_train,acc_train,balanced_acc_train=confusion_matrix_acc(prediction_train,y_train)\n",
    "print(\"Train samples:\\n\")\n",
    "print(\"Positive samples: {}\\nNegative samples: {}\\nTrue positives: {}\\nTrue negatives: {}\\nFalse positives: {}\\nFalse negatives: {}\\nAccuracy: {}\\nBalanced accuray: {}\\n\".format(pos_train,neg_train,tp_train,tn_train,fp_train,fn_train,acc_train,balanced_acc_train))\n",
    "pos_test,neg_test,tp_test,tn_test,fp_test,fn_test,acc_test,balanced_acc_test=confusion_matrix_acc(prediction_test,y_test)\n",
    "print(\"Test samples:\\n\")\n",
    "print(\"Positive samples: {}\\nNegative samples: {}\\nTrue positives: {}\\nTrue negatives: {}\\nFalse positives: {}\\nFalse negatives: {}\\nAccuracy: {}\\nBalanced accuray: {}\".format(pos_test,neg_test,tp_test,tn_test,fp_test,fn_test,acc_test,balanced_acc_test))"
   ]
  },
  {
   "cell_type": "code",
   "execution_count": 156,
   "metadata": {
    "tags": [
     "roc"
    ]
   },
   "outputs": [
    {
     "data": {
      "text/plain": [
       "<Figure size 432x288 with 0 Axes>"
      ]
     },
     "metadata": {},
     "output_type": "display_data"
    },
    {
     "data": {
      "image/png": "[encoded data removed]",
      "text/plain": [
       "<Figure size 432x288 with 1 Axes>"
      ]
     },
     "metadata": {
      "needs_background": "light"
     },
     "output_type": "display_data"
    },
    {
     "name": "stdout",
     "output_type": "stream",
     "text": [
      "Train Set\n",
      "  Area under curve: 0.9411764705882353\n",
      "\n",
      "Test Set\n",
      "  Area under curve: 0.9671945701357466\n",
      "\n"
     ]
    }
   ],
   "source": [
    "plot_ = plt.figure()\n",
    "#Your Code\n",
    "\n",
    "fpr_test, tpr_test, _ = roc_curve(y_test, prediction_test)\n",
    "fpr_train, tpr_train, _ = roc_curve(y_train, prediction_train)\n",
    "\n",
    "roc_auc_test = auc(fpr_test, tpr_test)\n",
    "roc_auc_train = auc(fpr_train, tpr_train)\n",
    "\n",
    "plt.figure()\n",
    "plt.plot([0, 1], [0, 1], color='grey', lw=1, linestyle='--', label=\"Random\")\n",
    "plt.plot(fpr_train, tpr_train,lw=2, label=\"Train Set\")\n",
    "plt.plot(fpr_test, tpr_test, lw=2, label=\"Test Set\")\n",
    "plt.xlim([-0.05, 1.05])\n",
    "plt.ylim([-0.05, 1.05])\n",
    "plt.xlabel(\"False Positive Rate\")\n",
    "plt.ylabel(\"True Positive Rate\")\n",
    "plt.title(\"ROC Curve - Logistic Regression\")\n",
    "plt.legend(loc=\"lower right\")\n",
    "plt.show()\n",
    "\n",
    "print(\"Train Set\"\n",
    "      f\"\\n  Area under curve: {roc_auc_train}\\n\")\n",
    "print(\"Test Set\"\n",
    "      f\"\\n  Area under curve: {roc_auc_test}\\n\")"
   ]
  },
  {
   "cell_type": "code",
   "execution_count": null,
   "metadata": {
    "tags": [
     "exec_check"
    ]
   },
   "outputs": [],
   "source": [
    "#executability check\n",
    "logistic_gradient(np.ones(2), np.ones((2,2)), np.ones(2))\n",
    "cost(np.ones(2), np.ones((2,2)), np.ones(2))\n",
    "numerical_gradient(np.ones(2), np.ones((2,2)), np.ones(2))\n",
    "initialize(RSEED,1,1)\n",
    "comparison(np.ones(5),np.ones(5))\n",
    "fitLogRegModel(np.ones((2,2)), np.ones(2), eta=1e-4, max_iter=100000)\n",
    "predictLogReg(np.ones(2), np.ones((2,2)))\n",
    "confusion_matrix_acc(np.ones(5),np.ones(5),threshold=0.5)\n",
    "print(\"Executable!\")"
   ]
  }
 ],
 "metadata": {
  "celltoolbar": "Tags",
  "kernelspec": {
   "display_name": "Python 3 (ipykernel)",
   "language": "python",
   "name": "python3"
  },
  "language_info": {
   "codemirror_mode": {
    "name": "ipython",
    "version": 3
   },
   "file_extension": ".py",
   "mimetype": "text/x-python",
   "name": "python",
   "nbconvert_exporter": "python",
   "pygments_lexer": "ipython3",
   "version": "3.9.12"
  }
 },
 "nbformat": 4,
 "nbformat_minor": 4
}
