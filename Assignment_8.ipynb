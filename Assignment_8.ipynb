{
 "cells": [
  {
   "cell_type": "markdown",
   "metadata": {
    "colab_type": "text",
    "id": "ou8e20tzDq-p"
   },
   "source": [
    "<h1 style=\"color:rgb(0,120,170)\">Assignment 8: CNNs </h1>"
   ]
  },
  {
   "cell_type": "markdown",
   "metadata": {
    "colab_type": "text",
    "id": "bPJ2o5SWDq-u"
   },
   "source": [
    "This material, no matter whether in printed or electronic form, may be used for personal and non-commercial educational use only. Any reproduction of this material, no matter whether as a whole or in parts, no matter whether in printed or in electronic form, requires explicit prior acceptance of the authors"
   ]
  },
  {
   "cell_type": "markdown",
   "metadata": {},
   "source": [
    "<h2 style=\"color:rgb(0,120,170)\">Automatic Testing Guidelines</h2>\n",
    "\n",
    "Automatic unittesting requires you, as a student, to submit a notebook which contains strictly defined objects.\n",
    "Strictness of definition consists of unified shapes, dtypes, variable names and more.\n",
    "\n",
    "Within the notebook, we provide detailed instruction which you should follow in order to maximise your final grade.\n",
    "\n",
    "**Name your notebook properly**, follow the pattern in the template name:\n",
    "\n",
    "**Assignment_N_NameSurname_matrnumber**\n",
    "<ol>\n",
    "    <li>N - number of assignment</li>\n",
    "    <li>NameSurname - your full name where every part of the name starts with a capital letter, no spaces</li>\n",
    "    <li>matrnumber - you student number on ID card (without k, potenitially with a leading zero)</li>\n",
    "</ol>\n",
    "\n",
    "Don't add any cells but use the ones provided by us. You may notice that most cells are tagged such that the unittest routine can recognise them.\n",
    "\n",
    "We highly recommend you to develop your code within the provided cells. You can implement helper functions where needed unless you put them in the same cell they are actually called. Always make sure that implemented functions have the correct output and given variables contain the correct data type.\n",
    "\n",
    "**Note:** Never use variables you defined in another cell in your functions directly; always pass them to the function as a parameter. In the unitest they won't be available either."
   ]
  },
  {
   "cell_type": "markdown",
   "metadata": {
    "colab_type": "text",
    "id": "5l0Io1_2Dq-v"
   },
   "source": [
    "<h2 style=\"color:rgb(0,120,170)\">Task 1: Explicit Computation of CNNs</h2>\n",
    "\n",
    "\n"
   ]
  },
  {
   "cell_type": "markdown",
   "metadata": {
    "colab_type": "text",
    "id": "ofipfzlXDq-w"
   },
   "source": [
    "<h2 style=\"color:rgb(0,120,170)\">Task 1.1: Convolution and Stride</h2>\n",
    "\n",
    "In this task, you should do some computuations for CNNs explicitly to gain further understanding how the corresponding operations work. Your are not allowed to use any other modules than numpy for all the problems in task 1.\n",
    "\n",
    "Assume you are given the following input image, represented as $\\mathbf{x}=\\begin{pmatrix} 1 & 0 & 1 & 1 & 0 & 0 \\\\ 0 & 1 & 1 & 0 & 0 & 0 \\\\ 0 & 1 & 0 & 1 & 1 & 0 \\\\ 1 & 1 & 0 & 1 & 1 & 1 \\\\ 0 & 1 & 1 & 1 & 0 & 0 \\\\ 1 & 1 & 1 & 0 & 0 & 1  \\end{pmatrix}$.\n",
    "* Consider the filter $\\mathbf{W}=\\begin{pmatrix} 1 & 1 & 1 \\\\ 0 & 2 & 0 \\\\ 1 & 1 & 1 \\end{pmatrix}$ and compute $\\mathbf{s}=\\mathbf{W} * \\mathbf{x}$. To do this, implement the function `compute_convolution` which computes the output.\n",
    "* Now add the functionality of using the stride parameter to the function and test it for $S=3$."
   ]
  },
  {
   "cell_type": "markdown",
   "metadata": {
    "colab_type": "text",
    "id": "nFiR4YBCDq-w"
   },
   "source": [
    "<h3 style=\"color:rgb(208,90,80)\">1.1 Code (30 points)</h3>\n",
    "\n",
    "Your code here:"
   ]
  },
  {
   "cell_type": "code",
   "execution_count": 1,
   "metadata": {
    "tags": [
     "variables"
    ]
   },
   "outputs": [],
   "source": [
    "import numpy as np\n",
    "image = np.array([[1,0,1,1,0,0],[0,1,1,0,0,0],[0,1,0,1,1,0],[1,1,0,1,1,1],[0,1,1,1,0,0],[1,1,1,0,0,1]])\n",
    "filter_ = np.array([[1,1,1],[0,2,0],[1,1,1]])"
   ]
  },
  {
   "cell_type": "code",
   "execution_count": 2,
   "metadata": {
    "tags": [
     "convolution"
    ]
   },
   "outputs": [],
   "source": [
    "\"\"\"\n",
    "Function that computes convolution of image array\n",
    "@param image, np.array, image data\n",
    "@param filter_, np.array, filter\n",
    "@stride, integer, indictates the amount of striding\n",
    "\n",
    "@output convolved, np.array, result of convolution\n",
    "\"\"\"\n",
    "def compute_convolution(image,filter_,stride):\n",
    "    \n",
    "    convolved = np.empty(shape=(int((image.shape[0] - filter_.shape[0])/stride + 1), \n",
    "                                int((image.shape[1] - filter_.shape[1])/stride + 1)))\n",
    "        \n",
    "    l, k = 0, 0\n",
    "    for i in range(convolved.shape[0]):      \n",
    "        for j in range(convolved.shape[1]):\n",
    "            convolved[i,j] = (image[l:l + filter_.shape[0], k:k + filter_.shape[1]] * filter_).sum()\n",
    "            k += stride\n",
    "        \n",
    "        l += stride\n",
    "        k = 0\n",
    "        \n",
    "    return convolved"
   ]
  },
  {
   "cell_type": "code",
   "execution_count": 3,
   "metadata": {},
   "outputs": [
    {
     "name": "stdout",
     "output_type": "stream",
     "text": [
      "[[5. 6. 4. 3.]\n",
      " [6. 4. 5. 5.]\n",
      " [5. 5. 6. 5.]\n",
      " [7. 6. 5. 4.]]\n",
      "[[5. 3.]\n",
      " [7. 4.]]\n"
     ]
    }
   ],
   "source": [
    "print(compute_convolution(image,filter_,1))\n",
    "print(compute_convolution(image,filter_,3))"
   ]
  },
  {
   "cell_type": "markdown",
   "metadata": {},
   "source": [
    "<h2 style=\"color:rgb(0,120,170)\">Task 1.2: Pooling</h2>"
   ]
  },
  {
   "cell_type": "markdown",
   "metadata": {},
   "source": [
    "After convolution layers, you usually find pooling layers in CNNs to reduce the input size for further layers. To this end, we ask you to implement your own pooling function as well.\n",
    "\n",
    "* Implement the function `max_pooling()` which applies max-pooling to an input image.\n",
    "* Now also implement the function `mean_pooling()`, which instead of taking the maximum value in the window calculates the mean for each output entry.\n",
    "\n",
    "**Hint:** You can reuse big parts of the previous task for this. "
   ]
  },
  {
   "cell_type": "markdown",
   "metadata": {},
   "source": [
    "<h3 style=\"color:rgb(208,90,80)\">1.2 Code (15 points)</h3>\n",
    "\n",
    "Your code here:"
   ]
  },
  {
   "cell_type": "code",
   "execution_count": 19,
   "metadata": {
    "tags": [
     "pooling"
    ]
   },
   "outputs": [],
   "source": [
    "\"\"\"\n",
    "Function that applies max pooling on image\n",
    "@param image, np.array, image data\n",
    "@pooling_size, integer, indicates the size of the pooling \"kernel\"\n",
    "\n",
    "@output pooled, np.array, output of pooling operation\n",
    "\"\"\"\n",
    "def max_pooling(image,pooling_size):\n",
    "    \n",
    "#     #A = np.pad(A, padding, mode='constant')\n",
    "#     stride = pooling_size\n",
    "#     # Window view of A\n",
    "#     output_shape = ((image.shape[0] - pooling_size) // stride + 1,\n",
    "#                     (image.shape[1] - pooling_size) // stride + 1)\n",
    "\n",
    "#     shape_w = (output_shape[0], output_shape[1], pooling_size, pooling_size)\n",
    "#     strides_w = (stride*image.strides[0], stride*image.strides[1], image.strides[0], image.strides[1])\n",
    "\n",
    "#     image_w = as_strided(image, shape_w, strides_w)\n",
    "#     pooled = image_w.max(axis=(2, 3))\n",
    "\n",
    "    number_of_images, image_height, image_width, image_depth = image.shape\n",
    "    output_height = (image_height - F) // S + 1\n",
    "    output_width = (image_width - F) // S + 1\n",
    "\n",
    "    pool = np.zeros((number_of_images, output_height, output_width, image_depth))\n",
    "    for k in range(number_of_images):\n",
    "        for i in range(output_height):\n",
    "            for j in range(output_width):\n",
    "                pool[k, i, j, :] = np.max(conv[k, i*S:i*S+F, j*S:j*S+F, :])\n",
    "\n",
    "    return pooled\n",
    "    \n",
    "\"\"\"\n",
    "Function that applies mean pooling on image\n",
    "@param image, np.array, image data\n",
    "@pooling_size, integer, indicates the size of the pooling \"kernel\"\n",
    "\n",
    "@output pooled, np.array, output of pooling operation\n",
    "\"\"\"\n",
    "def mean_pooling(image,pooling_size):\n",
    "    \n",
    "#     elif pool_mode == 'avg':\n",
    "#         return image_w.mean(axis=(2, 3))\n",
    "    \n",
    "    return pooled"
   ]
  },
  {
   "cell_type": "code",
   "execution_count": 20,
   "metadata": {},
   "outputs": [
    {
     "ename": "NameError",
     "evalue": "name 'as_strided' is not defined",
     "output_type": "error",
     "traceback": [
      "\u001b[1;31m---------------------------------------------------------------------------\u001b[0m",
      "\u001b[1;31mNameError\u001b[0m                                 Traceback (most recent call last)",
      "\u001b[1;32m~\\AppData\\Local\\Temp/ipykernel_17608/1063689862.py\u001b[0m in \u001b[0;36m<module>\u001b[1;34m\u001b[0m\n\u001b[1;32m----> 1\u001b[1;33m \u001b[0mprint\u001b[0m\u001b[1;33m(\u001b[0m\u001b[0mmax_pooling\u001b[0m\u001b[1;33m(\u001b[0m\u001b[0mimage\u001b[0m\u001b[1;33m,\u001b[0m\u001b[1;36m2\u001b[0m\u001b[1;33m)\u001b[0m\u001b[1;33m)\u001b[0m\u001b[1;33m\u001b[0m\u001b[1;33m\u001b[0m\u001b[0m\n\u001b[0m\u001b[0;32m      2\u001b[0m \u001b[0mprint\u001b[0m\u001b[1;33m(\u001b[0m\u001b[0mmean_pooling\u001b[0m\u001b[1;33m(\u001b[0m\u001b[0mimage\u001b[0m\u001b[1;33m,\u001b[0m\u001b[1;36m2\u001b[0m\u001b[1;33m)\u001b[0m\u001b[1;33m)\u001b[0m\u001b[1;33m\u001b[0m\u001b[1;33m\u001b[0m\u001b[0m\n",
      "\u001b[1;32m~\\AppData\\Local\\Temp/ipykernel_17608/1825198455.py\u001b[0m in \u001b[0;36mmax_pooling\u001b[1;34m(image, pooling_size)\u001b[0m\n\u001b[0;32m     17\u001b[0m     \u001b[0mstrides_w\u001b[0m \u001b[1;33m=\u001b[0m \u001b[1;33m(\u001b[0m\u001b[0mstride\u001b[0m\u001b[1;33m*\u001b[0m\u001b[0mimage\u001b[0m\u001b[1;33m.\u001b[0m\u001b[0mstrides\u001b[0m\u001b[1;33m[\u001b[0m\u001b[1;36m0\u001b[0m\u001b[1;33m]\u001b[0m\u001b[1;33m,\u001b[0m \u001b[0mstride\u001b[0m\u001b[1;33m*\u001b[0m\u001b[0mimage\u001b[0m\u001b[1;33m.\u001b[0m\u001b[0mstrides\u001b[0m\u001b[1;33m[\u001b[0m\u001b[1;36m1\u001b[0m\u001b[1;33m]\u001b[0m\u001b[1;33m,\u001b[0m \u001b[0mimage\u001b[0m\u001b[1;33m.\u001b[0m\u001b[0mstrides\u001b[0m\u001b[1;33m[\u001b[0m\u001b[1;36m0\u001b[0m\u001b[1;33m]\u001b[0m\u001b[1;33m,\u001b[0m \u001b[0mimage\u001b[0m\u001b[1;33m.\u001b[0m\u001b[0mstrides\u001b[0m\u001b[1;33m[\u001b[0m\u001b[1;36m1\u001b[0m\u001b[1;33m]\u001b[0m\u001b[1;33m)\u001b[0m\u001b[1;33m\u001b[0m\u001b[1;33m\u001b[0m\u001b[0m\n\u001b[0;32m     18\u001b[0m \u001b[1;33m\u001b[0m\u001b[0m\n\u001b[1;32m---> 19\u001b[1;33m     \u001b[0mimage_w\u001b[0m \u001b[1;33m=\u001b[0m \u001b[0mas_strided\u001b[0m\u001b[1;33m(\u001b[0m\u001b[0mimage\u001b[0m\u001b[1;33m,\u001b[0m \u001b[0mshape_w\u001b[0m\u001b[1;33m,\u001b[0m \u001b[0mstrides_w\u001b[0m\u001b[1;33m)\u001b[0m\u001b[1;33m\u001b[0m\u001b[1;33m\u001b[0m\u001b[0m\n\u001b[0m\u001b[0;32m     20\u001b[0m     \u001b[0mpooled\u001b[0m \u001b[1;33m=\u001b[0m \u001b[0mimage_w\u001b[0m\u001b[1;33m.\u001b[0m\u001b[0mmax\u001b[0m\u001b[1;33m(\u001b[0m\u001b[0maxis\u001b[0m\u001b[1;33m=\u001b[0m\u001b[1;33m(\u001b[0m\u001b[1;36m2\u001b[0m\u001b[1;33m,\u001b[0m \u001b[1;36m3\u001b[0m\u001b[1;33m)\u001b[0m\u001b[1;33m)\u001b[0m\u001b[1;33m\u001b[0m\u001b[1;33m\u001b[0m\u001b[0m\n\u001b[0;32m     21\u001b[0m \u001b[1;33m\u001b[0m\u001b[0m\n",
      "\u001b[1;31mNameError\u001b[0m: name 'as_strided' is not defined"
     ]
    }
   ],
   "source": [
    "print(max_pooling(image,2))\n",
    "print(mean_pooling(image,2))"
   ]
  },
  {
   "cell_type": "markdown",
   "metadata": {},
   "source": [
    "<h2 style=\"color:rgb(0,120,170)\">Task 1.3: Zero-Padding</h2>"
   ]
  },
  {
   "cell_type": "markdown",
   "metadata": {},
   "source": [
    "Right now, our implementation for the convolution will decrease the image size in any case, but often one wants to end up with a specific dimension in the end. Therefore we need to manipulate the given image in order to be able to apply the convolution in a way that delivers the desired output.\n",
    "\n",
    "* Implement the function `compute_padding()` which calculates the needed zero padding given the original size, kernel (=filter) size and a stride parameter to end up with some desired size of the feature map in the end. You can assume that height = widht for all entities. Keep in mind that only an integer solution will make sense in this case, so if the result is not an integer, return \"False\".\n",
    "\n",
    "* Implement the function `zero_padding()` which pads the given image by a certain number of rows/columns of zeros (in each direction)\n",
    "\n",
    "* Exectute/Print the functions for the given specific choice of parameters."
   ]
  },
  {
   "cell_type": "markdown",
   "metadata": {},
   "source": [
    "<h3 style=\"color:rgb(208,90,80)\">1.3 Code (15 points)</h3>\n",
    "\n",
    "Your code here:"
   ]
  },
  {
   "cell_type": "code",
   "execution_count": null,
   "metadata": {
    "tags": [
     "padding"
    ]
   },
   "outputs": [],
   "source": [
    "\"\"\"\n",
    "Function that computes necessary padding to apply convolution in the desired manner\n",
    "@param input_size, integer, size of input\n",
    "@param feature_size, integer, size of feature map (the size of the output)\n",
    "@param filter_size, integer, size of the filter\n",
    "@stride, integer, striding parameter for convolution\n",
    "\n",
    "@output if result of calculation is integer: int\n",
    "        else: False\n",
    "\"\"\"\n",
    "def compute_padding(input_size,feature_size,filter_size,stride): \n",
    "    \n",
    "    raise NotImplementedError(\"You have not implemented this function.\")\n",
    "\n",
    "\"\"\"\n",
    "Function that pads image\n",
    "@param image, np.array, image array\n",
    "@param pad_size, integer, amount of padding (on each side of the image)\n",
    "\n",
    "@output padded, np.array, the padded array\n",
    "\"\"\"\n",
    "def zero_padding(image,pad_size):\n",
    "\n",
    "    raise NotImplementedError(\"You have not implemented this function.\")\n",
    "    return padded"
   ]
  },
  {
   "cell_type": "code",
   "execution_count": null,
   "metadata": {},
   "outputs": [],
   "source": [
    "print(\"The necessary amount of padding is {}\".format(compute_padding(6,6,3,3)))\n",
    "print(zero_padding(image,compute_padding(6,6,3,3)))"
   ]
  },
  {
   "cell_type": "markdown",
   "metadata": {},
   "source": [
    "<h2 style=\"color:rgb(0,120,170)\">Task 1.4: The Whole Process</h2>"
   ]
  },
  {
   "cell_type": "markdown",
   "metadata": {},
   "source": [
    "Now everything should be in place and we can combine the implemented solution into one pipeline.\n",
    "\n",
    "* Implement the function `image_process()` which takes an image, filter and a stride parameter as input and first computes the convolution followed by Max-Pooling. Keep in mind, that the image might have to be padded before application of the convolution.\n",
    "\n",
    "**Note:** You can still assume that both image and kernel are quadratic (i.e. height = width)."
   ]
  },
  {
   "cell_type": "markdown",
   "metadata": {},
   "source": [
    "<h3 style=\"color:rgb(208,90,80)\">1.4 Code (10 points)</h3>\n",
    "\n",
    "Your code here:"
   ]
  },
  {
   "cell_type": "code",
   "execution_count": null,
   "metadata": {
    "tags": [
     "process"
    ]
   },
   "outputs": [],
   "source": [
    "\"\"\"\n",
    "Function that processes an image. It first calculates the necessary padding, if padding is possible (integer) it\n",
    "performs the padding, followed by convolution and pooling\n",
    "@param image, np.array, image data\n",
    "@param feature_size, integer, size of feature map (the size of the output) before(!) pooling\n",
    "@param filter_, np.array, filter\n",
    "@param stride, integer, indictates the amount of striding\n",
    "@param pooling_size, integer, indicates the size of the pooling \"kernel\"\n",
    "\n",
    "@output if padding is possible (integer): result, np.array, result of all this processes\n",
    "        else: False\n",
    "\"\"\"\n",
    "\n",
    "def image_process(image,feature_size,filter_,stride,pooling_size):\n",
    "\n",
    "    raise NotImplementedError(\"You have not implemented this function.\")\n",
    "    return result"
   ]
  },
  {
   "cell_type": "code",
   "execution_count": null,
   "metadata": {},
   "outputs": [],
   "source": [
    "print(image_process(image,6,filter_,1,2))\n",
    "print(image_process(image,6,filter_,3,3))"
   ]
  },
  {
   "cell_type": "markdown",
   "metadata": {
    "colab_type": "text",
    "id": "ThpuXicXDq-x"
   },
   "source": [
    "<h2 style=\"color:rgb(0,120,170)\">Task 2: CNNs vs. the Rest</h2>"
   ]
  },
  {
   "cell_type": "markdown",
   "metadata": {
    "colab_type": "text",
    "id": "JKF1LOgqYLSg"
   },
   "source": [
    "In this task, we will carry out a comparison of several classifiers on different portions of the FashionMNIST data set. From the whole training data we create smaller training sets that have $[0.05,0.10,0.25, 0.50, 1.00]$ times the the size of the total set. Compared to the previous assignment, the data loader is modified a little so that it outputs different formats for the computations with Pytorch, where we use tensors, and sklearn, where we use numpy arrays.\n",
    "\n",
    "To save computation time, you may leave the CALCULATE_ALL variable to False."
   ]
  },
  {
   "cell_type": "code",
   "execution_count": 4,
   "metadata": {
    "tags": [
     "calculate"
    ]
   },
   "outputs": [],
   "source": [
    "CALCULATE_ALL = False ## if True recalculate all entries in experiments, otherwise just the result for 5% and 10% data"
   ]
  },
  {
   "cell_type": "code",
   "execution_count": 5,
   "metadata": {
    "colab": {},
    "colab_type": "code",
    "id": "h6-awJvdDq-x",
    "tags": [
     "imports"
    ]
   },
   "outputs": [],
   "source": [
    "import torch\n",
    "import torch.nn as nn\n",
    "import torch.nn.functional as F\n",
    "from torch.autograd import Variable\n",
    "import torch.optim as optim\n",
    "from torchvision import datasets, transforms\n",
    "from types import SimpleNamespace\n",
    "import matplotlib.pyplot as plt\n",
    "import numpy as np\n",
    "import os\n",
    "import time\n",
    "from sklearn.svm import SVC\n",
    "from sklearn.tree import DecisionTreeClassifier\n",
    "from sklearn.ensemble import RandomForestClassifier\n",
    "\n",
    "from IPython.display import clear_output, display"
   ]
  },
  {
   "cell_type": "code",
   "execution_count": 6,
   "metadata": {
    "colab": {},
    "colab_type": "code",
    "id": "PPJI5ZnxDq-z",
    "tags": [
     "setting"
    ]
   },
   "outputs": [],
   "source": [
    "int_classes = int \n",
    "seed = 42\n",
    "torch.manual_seed(seed)\n",
    "np.random.seed(seed)\n",
    "use_cuda = torch.cuda.is_available()\n",
    "device = torch.device('cuda' if use_cuda else 'cpu')"
   ]
  },
  {
   "cell_type": "code",
   "execution_count": 7,
   "metadata": {
    "colab": {
     "base_uri": "https://localhost:8080/",
     "height": 275
    },
    "colab_type": "code",
    "id": "9IVEE1WYDq-1",
    "outputId": "cb55cb33-b398-4390-ade8-cb4a68b07aa0",
    "scrolled": true
   },
   "outputs": [
    {
     "name": "stdout",
     "output_type": "stream",
     "text": [
      "Downloading http://fashion-mnist.s3-website.eu-central-1.amazonaws.com/train-images-idx3-ubyte.gz\n",
      "Downloading http://fashion-mnist.s3-website.eu-central-1.amazonaws.com/train-images-idx3-ubyte.gz to data\\FashionMNIST\\raw\\train-images-idx3-ubyte.gz\n"
     ]
    },
    {
     "data": {
      "application/vnd.jupyter.widget-view+json": {
       "model_id": "96c8fd31ee2244c98f963e1a54f7bc69",
       "version_major": 2,
       "version_minor": 0
      },
      "text/plain": [
       "  0%|          | 0/26421880 [00:00<?, ?it/s]"
      ]
     },
     "metadata": {},
     "output_type": "display_data"
    },
    {
     "name": "stdout",
     "output_type": "stream",
     "text": [
      "Extracting data\\FashionMNIST\\raw\\train-images-idx3-ubyte.gz to data\\FashionMNIST\\raw\n",
      "\n",
      "Downloading http://fashion-mnist.s3-website.eu-central-1.amazonaws.com/train-labels-idx1-ubyte.gz\n",
      "Downloading http://fashion-mnist.s3-website.eu-central-1.amazonaws.com/train-labels-idx1-ubyte.gz to data\\FashionMNIST\\raw\\train-labels-idx1-ubyte.gz\n"
     ]
    },
    {
     "data": {
      "application/vnd.jupyter.widget-view+json": {
       "model_id": "9a77f98aee3446138a84de0ea124010c",
       "version_major": 2,
       "version_minor": 0
      },
      "text/plain": [
       "  0%|          | 0/29515 [00:00<?, ?it/s]"
      ]
     },
     "metadata": {},
     "output_type": "display_data"
    },
    {
     "name": "stdout",
     "output_type": "stream",
     "text": [
      "Extracting data\\FashionMNIST\\raw\\train-labels-idx1-ubyte.gz to data\\FashionMNIST\\raw\n",
      "\n",
      "Downloading http://fashion-mnist.s3-website.eu-central-1.amazonaws.com/t10k-images-idx3-ubyte.gz\n",
      "Downloading http://fashion-mnist.s3-website.eu-central-1.amazonaws.com/t10k-images-idx3-ubyte.gz to data\\FashionMNIST\\raw\\t10k-images-idx3-ubyte.gz\n"
     ]
    },
    {
     "data": {
      "application/vnd.jupyter.widget-view+json": {
       "model_id": "857e6b10fd824a8ab7cea36662272275",
       "version_major": 2,
       "version_minor": 0
      },
      "text/plain": [
       "  0%|          | 0/4422102 [00:00<?, ?it/s]"
      ]
     },
     "metadata": {},
     "output_type": "display_data"
    },
    {
     "name": "stdout",
     "output_type": "stream",
     "text": [
      "Extracting data\\FashionMNIST\\raw\\t10k-images-idx3-ubyte.gz to data\\FashionMNIST\\raw\n",
      "\n",
      "Downloading http://fashion-mnist.s3-website.eu-central-1.amazonaws.com/t10k-labels-idx1-ubyte.gz\n",
      "Downloading http://fashion-mnist.s3-website.eu-central-1.amazonaws.com/t10k-labels-idx1-ubyte.gz to data\\FashionMNIST\\raw\\t10k-labels-idx1-ubyte.gz\n"
     ]
    },
    {
     "data": {
      "application/vnd.jupyter.widget-view+json": {
       "model_id": "b50e308feba84dce9aaccc737ebd56d2",
       "version_major": 2,
       "version_minor": 0
      },
      "text/plain": [
       "  0%|          | 0/5148 [00:00<?, ?it/s]"
      ]
     },
     "metadata": {},
     "output_type": "display_data"
    },
    {
     "name": "stdout",
     "output_type": "stream",
     "text": [
      "Extracting data\\FashionMNIST\\raw\\t10k-labels-idx1-ubyte.gz to data\\FashionMNIST\\raw\n",
      "\n"
     ]
    }
   ],
   "source": [
    "#To-Do: mean and std\n",
    "# Data loader (downloads data automatically the first time)\n",
    "# 0.2859 and 0.3530 are the mean and the std computed on the training set\n",
    "# used to train the CNN\n",
    "\n",
    "### use Pytorch dataloader with a subset of the training data\n",
    "def get_sampler(N_samples):  \n",
    "    mask = list(np.arange(N_samples))  ## list of valid sample_ids\n",
    "    return torch.utils.data.RandomSampler(mask) ## random order\n",
    "\n",
    "def get_data_loader(use_cuda,batch_size=64,train=True,get_all=False,sampler=None):\n",
    "    kwargs = {'num_workers': 1, 'pin_memory': True} if use_cuda else {}\n",
    "    loader = torch.utils.data.DataLoader(\n",
    "        #datasets.FashionMNIST(os.path.join('.','..','data')\n",
    "        datasets.FashionMNIST(os.path.join('data')\n",
    "                            ,train=train, download=True,\n",
    "                       transform=transforms.Compose([\n",
    "                           transforms.ToTensor(),\n",
    "                           transforms.Normalize((0.2859,), (0.3530,))\n",
    "                       ])), shuffle=False, sampler=sampler, batch_size=batch_size,**kwargs)\n",
    "    ## return numpy arrays of the dataset\n",
    "    if get_all: \n",
    "        for _, (train_samples, train_labels) in enumerate(loader):\n",
    "            return train_samples.numpy().reshape(-1,28*28),train_labels.numpy()\n",
    "    ## return loader to provide minibatches\n",
    "    else:\n",
    "        return loader\n",
    "\n",
    "### prepare data for sklearn models\n",
    "train_samples, train_labels = get_data_loader(use_cuda,batch_size=6*10**4,train=True,get_all = True)\n",
    "test_samples, test_labels = get_data_loader(use_cuda,batch_size=10**4,train=False,get_all = True)"
   ]
  },
  {
   "cell_type": "markdown",
   "metadata": {
    "colab_type": "text",
    "id": "aqjz-K2QYLSr"
   },
   "source": [
    "Now we want to apply different models to our prepared data. We also want to print and store accuracy, training time and inference time, so these should be our results. In the dictionary \"experiments\", we want to store these informations in an array for the different models and different training data sizes. Just run the code in oder to understand better what is meant exactly."
   ]
  },
  {
   "cell_type": "code",
   "execution_count": 8,
   "metadata": {
    "colab": {
     "base_uri": "https://localhost:8080/",
     "height": 510
    },
    "colab_type": "code",
    "id": "1RY4eW83Dq-3",
    "outputId": "94cb6f0f-a85d-417e-913f-59812c9509dd",
    "tags": [
     "dictionary"
    ]
   },
   "outputs": [
    {
     "data": {
      "text/plain": [
       "{'percentages': array([0.05, 0.1 , 0.25, 0.5 , 1.  ]),\n",
       " 'N_samples': array([3000, 6000]),\n",
       " 'RF_100': {'accuracy': array([ 0.  ,  0.  , 85.67, 86.76, 87.77]),\n",
       "  'training_time': array([ 0.  ,  0.  , 13.22, 29.77, 67.63]),\n",
       "  'inference_time': array([0.  , 0.  , 0.32, 0.35, 0.4 ])},\n",
       " 'RF_500': {'accuracy': array([ 0.  ,  0.  , 85.97, 86.97, 87.86]),\n",
       "  'training_time': array([  0.  ,   0.  ,  65.26, 148.64, 337.84]),\n",
       "  'inference_time': array([0.  , 0.  , 1.53, 1.72, 1.95])},\n",
       " 'SVM': {'accuracy': array([ 0.  ,  0.  , 86.14, 87.03, 88.28]),\n",
       "  'training_time': array([  0.  ,   0.  ,  40.43, 130.63, 433.99]),\n",
       "  'inference_time': array([  0.  ,   0.  ,  49.58,  88.61, 157.68])},\n",
       " 'CNN_simple': {'accuracy': array([ 0.  ,  0.  , 83.28, 85.66, 87.9 ]),\n",
       "  'training_time': array([  0.  ,   0.  ,  40.76,  80.33, 162.19]),\n",
       "  'inference_time': array([0.  , 0.  , 1.29, 1.35, 1.32])},\n",
       " 'CNN_wide': {'accuracy': array([ 0.  ,  0.  , 84.83, 86.7 , 90.48]),\n",
       "  'training_time': array([  0.  ,   0.  ,  40.6 ,  81.93, 160.84]),\n",
       "  'inference_time': array([0.  , 0.  , 1.32, 1.33, 1.35])},\n",
       " 'CNN_deep': {'accuracy': array([ 0.  ,  0.  , 88.95, 90.08, 91.86]),\n",
       "  'training_time': array([  0.  ,   0.  ,  42.48,  82.38, 162.91]),\n",
       "  'inference_time': array([0.  , 0.  , 1.34, 1.31, 1.32])},\n",
       " 'CNN_wide_max': {'accuracy': array([ 0.  ,  0.  , 89.57, 90.12, 91.02]),\n",
       "  'training_time': array([  0.  ,   0.  ,  41.09,  82.07, 161.16]),\n",
       "  'inference_time': array([0.  , 0.  , 1.3 , 1.36, 1.33])}}"
      ]
     },
     "execution_count": 8,
     "metadata": {},
     "output_type": "execute_result"
    }
   ],
   "source": [
    "models = [\"RF_100\",\"RF_500\",\"SVM\",\"CNN_simple\",\"CNN_wide\",\"CNN_deep\",\"CNN_wide_max\"]\n",
    "results = [\"accuracy\",\"training_time\",\"inference_time\"]\n",
    "experiments = {}\n",
    "experiments[\"percentages\"] = np.array([0.05,0.10,0.25,0.50,1.00])\n",
    "experiments[\"N_samples\"] = (60000 * experiments[\"percentages\"]).astype(np.int)\n",
    "\n",
    "for k in models:\n",
    "    experiments[k] = {}\n",
    "    for l in results:\n",
    "        experiments[k][l] = np.zeros([len(experiments[\"N_samples\"])])\n",
    "        \n",
    "## to save time, you can use precomputed values for the larger subsets\n",
    "if not CALCULATE_ALL:\n",
    "    experiments[\"N_samples\"] = experiments[\"N_samples\"][:-3]\n",
    "    experiments[\"RF_100\"][\"accuracy\"][-3:],experiments[\"RF_100\"][\"training_time\"][-3:],experiments[\"RF_100\"][\"inference_time\"][-3:]  = \\\n",
    "        np.array([85.67, 86.76, 87.77]), np.array([13.22, 29.77, 67.63]), np.array([0.32, 0.35, 0.4])\n",
    "    experiments[\"RF_500\"][\"accuracy\"][-3:],experiments[\"RF_500\"][\"training_time\"][-3:],experiments[\"RF_500\"][\"inference_time\"][-3:]  = \\\n",
    "        np.array([85.97, 86.97, 87.86]), np.array([65.26, 148.64, 337.84]), np.array([1.53, 1.72, 1.95])\n",
    "    experiments[\"SVM\"][\"accuracy\"][-3:],experiments[\"SVM\"][\"training_time\"][-3:],experiments[\"SVM\"][\"inference_time\"][-3:]  = \\\n",
    "        np.array([ 86.14, 87.03, 88.28]), np.array([40.43, 130.63, 433.99]), np.array([49.58,  88.61, 157.68])\n",
    "    experiments[\"RF_100\"][\"accuracy\"][-3:],experiments[\"RF_100\"][\"training_time\"][-3:],experiments[\"RF_100\"][\"inference_time\"][-3:]  = \\\n",
    "    np.array([85.67, 86.76, 87.77]), np.array([13.22, 29.77, 67.63]), np.array([0.32, 0.35, 0.4])\n",
    "    experiments[\"CNN_simple\"][\"accuracy\"][-3:],experiments[\"CNN_simple\"][\"training_time\"][-3:],experiments[\"CNN_simple\"][\"inference_time\"][-3:]  = \\\n",
    "        np.array([ 83.28, 85.66, 87.9]), np.array([40.76,  80.33, 162.19]), np.array([1.29, 1.35, 1.32])\n",
    "    experiments[\"CNN_wide\"][\"accuracy\"][-3:],experiments[\"CNN_wide\"][\"training_time\"][-3:],experiments[\"CNN_wide\"][\"inference_time\"][-3:]  = \\\n",
    "        np.array([84.83, 86.7 , 90.48]), np.array([40.6 ,  81.93, 160.84]), np.array([1.32, 1.33, 1.35])\n",
    "    experiments[\"CNN_deep\"][\"accuracy\"][-3:],experiments[\"CNN_deep\"][\"training_time\"][-3:],experiments[\"CNN_deep\"][\"inference_time\"][-3:]  = \\\n",
    "        np.array([ 88.95, 90.08, 91.86]), np.array([42.48,  82.38, 162.91]), np.array([1.34, 1.31, 1.32])\n",
    "    experiments[\"CNN_wide_max\"][\"accuracy\"][-3:],experiments[\"CNN_wide_max\"][\"training_time\"][-3:],experiments[\"CNN_wide_max\"][\"inference_time\"][-3:]  = \\\n",
    "        np.array([89.57, 90.12, 91.02]), np.array([41.09,  82.07, 161.16]), np.array([1.3 , 1.36, 1.33])\n",
    "    \n",
    "experiments"
   ]
  },
  {
   "cell_type": "markdown",
   "metadata": {
    "colab_type": "text",
    "id": "gIz9FAWwYLSu"
   },
   "source": [
    "Next, we want to apply this routine to the sklearn models first (i.e RFs and SVMs) for the different sizes of the data set. We implemented the routine for Random Forest with 100 estimators, with 500 estimators and for SVM:"
   ]
  },
  {
   "cell_type": "code",
   "execution_count": 9,
   "metadata": {
    "colab": {
     "base_uri": "https://localhost:8080/",
     "height": 289
    },
    "colab_type": "code",
    "id": "c_XUfWb1Dq-9",
    "outputId": "c596d7a8-cb2e-4bf9-c734-7dddb943c500"
   },
   "outputs": [
    {
     "name": "stdout",
     "output_type": "stream",
     "text": [
      "Subset consists of 3000 samples\n",
      "training took 1.66 seconds\n",
      "inference took 0.22 seconds\n",
      "test accuracy: 82.42 percent\n",
      "Subset consists of 6000 samples\n",
      "training took 3.80 seconds\n",
      "inference took 0.24 seconds\n",
      "test accuracy: 83.91 percent\n"
     ]
    }
   ],
   "source": [
    "### code for experiments['RF_100'], just execute\n",
    "for i,n_samples in enumerate(experiments[\"N_samples\"]):\n",
    "    print(\"Subset consists of {} samples\".format(n_samples))\n",
    "    model = RandomForestClassifier(n_estimators=100)\n",
    "    \n",
    "    start_train= time.time()\n",
    "    model.fit(train_samples[:n_samples],train_labels[:n_samples])\n",
    "    end_train = time.time()\n",
    "    train_time = np.round(end_train-start_train,decimals=2)\n",
    "    experiments[\"RF_100\"][\"training_time\"][i] = train_time \n",
    "    print(\"training took {:.2f} seconds\".format(train_time))\n",
    "    \n",
    "    start_infer= time.time()\n",
    "    pred = model.predict(test_samples)\n",
    "    end_infer = time.time()\n",
    "    infer_time = np.round(end_infer-start_infer,decimals=2)\n",
    "    experiments[\"RF_100\"][\"inference_time\"][i] = infer_time\n",
    "    print(\"inference took {:.2f} seconds\".format(infer_time))\n",
    "    \n",
    "    accuracy = np.round(sum((pred-test_labels)==0)/len(test_labels)*100,\n",
    "                        decimals=2)\n",
    "    print(\"test accuracy: {:.2f} percent\".format(accuracy))\n",
    "    experiments[\"RF_100\"][\"accuracy\"][i] = accuracy"
   ]
  },
  {
   "cell_type": "code",
   "execution_count": 10,
   "metadata": {
    "colab": {
     "base_uri": "https://localhost:8080/",
     "height": 289
    },
    "colab_type": "code",
    "id": "c_XUfWb1Dq-9",
    "outputId": "c596d7a8-cb2e-4bf9-c734-7dddb943c500"
   },
   "outputs": [
    {
     "name": "stdout",
     "output_type": "stream",
     "text": [
      "Subset consists of 3000 samples\n",
      "training took 8.70 seconds\n",
      "inference took 1.10 seconds\n",
      "test accuracy: 83.01 percent\n",
      "Subset consists of 6000 samples\n",
      "training took 20.11 seconds\n",
      "inference took 1.16 seconds\n",
      "test accuracy: 84.29 percent\n"
     ]
    }
   ],
   "source": [
    "### code for experiments['RF_500'], just execute\n",
    "for i,n_samples in enumerate(experiments[\"N_samples\"]):\n",
    "    print(\"Subset consists of {} samples\".format(n_samples))\n",
    "    model = RandomForestClassifier(n_estimators=500)\n",
    "    \n",
    "    start_train= time.time()\n",
    "    model.fit(train_samples[:n_samples],train_labels[:n_samples])\n",
    "    end_train = time.time()\n",
    "    train_time = np.round(end_train-start_train,decimals=2)\n",
    "    experiments[\"RF_500\"][\"training_time\"][i] = train_time \n",
    "    print(\"training took {:.2f} seconds\".format(train_time))\n",
    "    \n",
    "    start_infer= time.time()\n",
    "    pred = model.predict(test_samples)\n",
    "    end_infer = time.time()\n",
    "    infer_time = np.round(end_infer-start_infer,decimals=2)\n",
    "    experiments[\"RF_500\"][\"inference_time\"][i] = infer_time\n",
    "    print(\"inference took {:.2f} seconds\".format(infer_time))\n",
    "    \n",
    "    accuracy = np.round(sum((pred-test_labels)==0)/len(test_labels)*100,\n",
    "                        decimals=2)\n",
    "    print(\"test accuracy: {:.2f} percent\".format(accuracy))\n",
    "    experiments[\"RF_500\"][\"accuracy\"][i] = accuracy"
   ]
  },
  {
   "cell_type": "code",
   "execution_count": 11,
   "metadata": {
    "cellView": "both",
    "colab": {
     "base_uri": "https://localhost:8080/",
     "height": 289
    },
    "colab_type": "code",
    "id": "xhoMss4xYLS0",
    "outputId": "bcc2cf4c-94c0-4ea9-9213-8bece5998771"
   },
   "outputs": [
    {
     "name": "stdout",
     "output_type": "stream",
     "text": [
      "Subset consists of 3000 samples\n",
      "training took 0.73 seconds\n",
      "inference took 9.10 seconds\n",
      "test accuracy: 82.32 percent\n",
      "Subset consists of 6000 samples\n",
      "training took 2.77 seconds\n",
      "inference took 20.61 seconds\n",
      "test accuracy: 84.13 percent\n"
     ]
    }
   ],
   "source": [
    "### code for experiments['SVM'], just execute\n",
    "for i,n_samples in enumerate(experiments[\"N_samples\"]):\n",
    "    print(\"Subset consists of {} samples\".format(n_samples))\n",
    "    model = SVC()\n",
    "    \n",
    "    start_train= time.time()\n",
    "    model.fit(train_samples[:n_samples],train_labels[:n_samples])\n",
    "    end_train = time.time()\n",
    "    train_time = np.round(end_train-start_train,decimals=2)\n",
    "    experiments[\"SVM\"][\"training_time\"][i] = train_time \n",
    "    print(\"training took {:.2f} seconds\".format(train_time))\n",
    "    \n",
    "    start_infer= time.time()\n",
    "    pred = model.predict(test_samples)\n",
    "    end_infer = time.time()\n",
    "    infer_time = np.round(end_infer-start_infer,decimals=2)\n",
    "    experiments[\"SVM\"][\"inference_time\"][i] = infer_time\n",
    "    print(\"inference took {:.2f} seconds\".format(infer_time))\n",
    "    \n",
    "    accuracy = np.round(sum((pred-test_labels)==0)/len(test_labels)*100,\n",
    "                        decimals=2)\n",
    "    print(\"test accuracy: {:.2f} percent\".format(accuracy))\n",
    "    experiments[\"SVM\"][\"accuracy\"][i] = accuracy"
   ]
  },
  {
   "cell_type": "markdown",
   "metadata": {
    "colab_type": "text",
    "id": "H7WOSvBaDq_A"
   },
   "source": [
    "Now we want to run similar experiments with four different CNN models. Feel free to experiment with the networks. If running the code takes too long, the relevant data is already stored in the `experiments` dictionary defined 4 cells above.\n",
    "\n",
    "We first provide the training and test routine for the CNNs."
   ]
  },
  {
   "cell_type": "code",
   "execution_count": 12,
   "metadata": {
    "colab": {},
    "colab_type": "code",
    "id": "F2zYlWcKDq_A"
   },
   "outputs": [],
   "source": [
    "#nothing to do here, just execute\n",
    "def train(model, device, train_loader, optimizer, epoch):\n",
    "    model.train() \n",
    "    correct=0\n",
    "    total = 0\n",
    "    for batch_idx, (data, target) in enumerate(train_loader):\n",
    "        data, target = data.to(device), target.to(device)\n",
    "        optimizer.zero_grad()\n",
    "        output = model(data)\n",
    "        loss = F.nll_loss(output, target)\n",
    "        loss.backward()\n",
    "        optimizer.step()\n",
    "        pred = output.max(1, keepdim=True)[1] # get the index of the max log-probability\n",
    "        correct += pred.eq(target.view_as(pred)).sum().item()\n",
    "        total += target.shape[0]\n",
    "    print('Epoch {} \\nTraining Accuracy: {}/{} ({:.2f}%)'.format(epoch,\n",
    "    correct, total, 100*correct/total \n",
    "    )) \n",
    "    \n",
    "def test(model, device, test_loader):\n",
    "    model.eval()\n",
    "    correct = 0\n",
    "    for data, target in test_loader:\n",
    "        data, target = data.to(device), target.to(device)\n",
    "        output = model(data)\n",
    "        pred = output.max(1, keepdim=True)[1] # get the index of the max log-probability\n",
    "        correct += pred.eq(target.view_as(pred)).sum().item()\n",
    "    accuracy = np.round(100. * correct / len(test_loader.dataset),decimals=2)\n",
    "    print('Test Accuracy: {}/{} ({:.2f}%)'.format(correct, len(test_loader.dataset), accuracy)) \n",
    "    return accuracy"
   ]
  },
  {
   "cell_type": "markdown",
   "metadata": {
    "colab_type": "text",
    "id": "fw6d1K-DYLS-"
   },
   "source": [
    "Here we provide a routine that creates CNN models. It takes as inputs the hyper-parameters of the CNNs. It's not necessary to fully understand this routine at this stage, as this will be a main topic in further courses (e.g. Deep Learning 1&2)."
   ]
  },
  {
   "cell_type": "code",
   "execution_count": 13,
   "metadata": {
    "colab": {},
    "colab_type": "code",
    "id": "_NRK1hMDDq_C"
   },
   "outputs": [],
   "source": [
    "#nothing to do here, just execute\n",
    "class Net(nn.Module):\n",
    "    def __init__(self,use_batch_norm=True,n_blocks=3,n_layers=3,channels = 32, multiply_channels=2, global_max = True):\n",
    "        super(Net, self).__init__(),\n",
    "        self.use_batch_norm = use_batch_norm\n",
    "        self.n_blocks = n_blocks\n",
    "        self.n_layers = n_layers\n",
    "        self.channels = channels\n",
    "        self.multiply_channels = multiply_channels\n",
    "        self.global_max = global_max\n",
    "\n",
    "        ## feature extraction CNN => linear layer (N_cannels to N_classes) => softmax\n",
    "        self.cnn_module = self.build_model() \n",
    "        self.fc_module = nn.Sequential(\n",
    "            nn.Linear(channels*multiply_channels**(n_blocks-1), 10)) \n",
    "        \n",
    "    def build_model(self):\n",
    "        channels_per_layer = [1,self.channels]\n",
    "        for i in range(1,self.n_blocks):\n",
    "            channels_per_layer.append(self.channels*self.multiply_channels**i)   \n",
    "        \n",
    "        components = []\n",
    "        for i in range(self.n_blocks):\n",
    "            for j in range(self.n_layers):\n",
    "                if j== 0:\n",
    "                    cur_dims = [channels_per_layer[i],channels_per_layer[i+1]]   ## first layer of the block\n",
    "                else: \n",
    "                    cur_dims = [channels_per_layer[i+1],channels_per_layer[i+1]]\n",
    "\n",
    "                if self.use_batch_norm:        ## no bias needed\n",
    "                    components.append(\n",
    "                        nn.Sequential(nn.Conv2d(cur_dims[0], cur_dims[1], kernel_size = 3,padding=1,bias=False),\n",
    "                                     nn.BatchNorm2d(cur_dims[1], momentum=0.1),\n",
    "                                     nn.ReLU()\n",
    "                                     )\n",
    "                    )\n",
    "                else:                          \n",
    "                    components.append(\n",
    "                        nn.Sequential(nn.Conv2d(cur_dims[0], cur_dims[1], kernel_size = 3,padding=1),\n",
    "                                     nn.ReLU()\n",
    "                                     )\n",
    "                    )\n",
    "            if i == self.n_blocks-1:\n",
    "                if self.global_max:\n",
    "                    components.append(nn.Sequential(nn.AdaptiveMaxPool2d(1)))    ## finish with a global max pooling layer\n",
    "                else:\n",
    "                    components.append(nn.Sequential(nn.AdaptiveAvgPool2d(1)))    ## finish with a global average pooling layer\n",
    "            else: \n",
    "                components.append(nn.Sequential(nn.MaxPool2d(2, stride = 2)))    ## downsampling via max_pooling of stride 2\n",
    "        return nn.Sequential(*components)\n",
    "        \n",
    "    def forward(self, x):   \n",
    "        x = self.cnn_module(x)    \n",
    "        x = x.view(x.size(0), -1) \n",
    "        x = self.fc_module(x)     \n",
    "        return F.log_softmax(x, dim=1)"
   ]
  },
  {
   "cell_type": "markdown",
   "metadata": {
    "colab_type": "text",
    "id": "j9gtHy6_YLTE"
   },
   "source": [
    "Now let us run the different CNN models for the different sizes of the data sets.\n",
    "You should run the experiments with the following four CNN models:\n",
    "- a simple CNN with average pooling, called \"CNN_simple\"\n",
    "- a wide CNN with average pooling, called \"CNN_wide\"\n",
    "- a deep CNN with average pooling, called \"CNN_deep\"\n",
    "- a wide CNN with max pooling, called \"CNN_wide_max\"\n",
    "\n",
    "This is done now in a similar fashion as for the sklearn methods. Again accuracy, training time, and test time are stored in the experiments dictionary for the different sizes of the data sets. The number of trainable parameters for each of the four different CNNs is printed in the begining of the training loop of the corresponding model. This should allow you to get a rough idea of the complexities of these models."
   ]
  },
  {
   "cell_type": "code",
   "execution_count": 14,
   "metadata": {
    "colab": {
     "base_uri": "https://localhost:8080/",
     "height": 1000
    },
    "colab_type": "code",
    "id": "kAHUquqsDq_I",
    "outputId": "0bffa978-da10-4d0b-e39b-7d9974c23f50",
    "scrolled": true
   },
   "outputs": [
    {
     "name": "stdout",
     "output_type": "stream",
     "text": [
      "Net(\n",
      "  (cnn_module): Sequential(\n",
      "    (0): Sequential(\n",
      "      (0): Conv2d(1, 16, kernel_size=(3, 3), stride=(1, 1), padding=(1, 1), bias=False)\n",
      "      (1): BatchNorm2d(16, eps=1e-05, momentum=0.1, affine=True, track_running_stats=True)\n",
      "      (2): ReLU()\n",
      "    )\n",
      "    (1): Sequential(\n",
      "      (0): MaxPool2d(kernel_size=2, stride=2, padding=0, dilation=1, ceil_mode=False)\n",
      "    )\n",
      "    (2): Sequential(\n",
      "      (0): Conv2d(16, 16, kernel_size=(3, 3), stride=(1, 1), padding=(1, 1), bias=False)\n",
      "      (1): BatchNorm2d(16, eps=1e-05, momentum=0.1, affine=True, track_running_stats=True)\n",
      "      (2): ReLU()\n",
      "    )\n",
      "    (3): Sequential(\n",
      "      (0): MaxPool2d(kernel_size=2, stride=2, padding=0, dilation=1, ceil_mode=False)\n",
      "    )\n",
      "    (4): Sequential(\n",
      "      (0): Conv2d(16, 16, kernel_size=(3, 3), stride=(1, 1), padding=(1, 1), bias=False)\n",
      "      (1): BatchNorm2d(16, eps=1e-05, momentum=0.1, affine=True, track_running_stats=True)\n",
      "      (2): ReLU()\n",
      "    )\n",
      "    (5): Sequential(\n",
      "      (0): AdaptiveAvgPool2d(output_size=1)\n",
      "    )\n",
      "  )\n",
      "  (fc_module): Sequential(\n",
      "    (0): Linear(in_features=16, out_features=10, bias=True)\n",
      "  )\n",
      ")\n",
      "\n",
      "The model has 5018 parameters\n",
      "\n",
      "Subset consists of 3000 samples\n",
      "Epoch 1 \n",
      "Training Accuracy: 942/3000 (31.40%)\n",
      "epoch took 1.01 seconds\n",
      "Test Accuracy: 3914/10000 (39.14%)\n",
      "inference took 2.23 seconds\n",
      "Epoch 2 \n",
      "Training Accuracy: 1472/3000 (49.07%)\n",
      "epoch took 1.10 seconds\n",
      "Test Accuracy: 5583/10000 (55.83%)\n",
      "inference took 2.28 seconds\n",
      "Epoch 3 \n",
      "Training Accuracy: 1655/3000 (55.17%)\n",
      "epoch took 1.08 seconds\n",
      "Test Accuracy: 5779/10000 (57.79%)\n",
      "inference took 2.33 seconds\n",
      "Epoch 4 \n",
      "Training Accuracy: 1762/3000 (58.73%)\n",
      "epoch took 1.57 seconds\n",
      "Test Accuracy: 6136/10000 (61.36%)\n",
      "inference took 3.00 seconds\n",
      "Epoch 5 \n",
      "Training Accuracy: 1957/3000 (65.23%)\n",
      "epoch took 1.51 seconds\n",
      "Test Accuracy: 6479/10000 (64.79%)\n",
      "inference took 2.90 seconds\n",
      "finished CNN_simple with 3000\n",
      "accuracy [61.31  0.   83.28 85.66 87.9 ]\n",
      "training_time [  6.27   0.    40.76  80.33 162.19]\n",
      "inference_time [2.55 0.   1.29 1.35 1.32]\n",
      "\n",
      "Subset consists of 6000 samples\n",
      "Epoch 1 \n",
      "Training Accuracy: 2602/6000 (43.37%)\n",
      "epoch took 2.77 seconds\n",
      "Test Accuracy: 5647/10000 (56.47%)\n",
      "inference took 2.98 seconds\n",
      "Epoch 2 \n",
      "Training Accuracy: 3886/6000 (64.77%)\n",
      "epoch took 2.71 seconds\n",
      "Test Accuracy: 6546/10000 (65.46%)\n",
      "inference took 2.86 seconds\n",
      "Epoch 3 \n",
      "Training Accuracy: 4234/6000 (70.57%)\n",
      "epoch took 2.62 seconds\n",
      "Test Accuracy: 6763/10000 (67.63%)\n",
      "inference took 2.69 seconds\n",
      "Epoch 4 \n",
      "Training Accuracy: 4355/6000 (72.58%)\n",
      "epoch took 2.61 seconds\n",
      "Test Accuracy: 7200/10000 (72.00%)\n",
      "inference took 2.68 seconds\n",
      "Epoch 5 \n",
      "Training Accuracy: 4465/6000 (74.42%)\n",
      "epoch took 2.69 seconds\n",
      "Test Accuracy: 7295/10000 (72.95%)\n",
      "inference took 2.70 seconds\n",
      "finished CNN_simple with 6000\n",
      "accuracy [61.31 70.86 83.28 85.66 87.9 ]\n",
      "training_time [  6.27  13.4   40.76  80.33 162.19]\n",
      "inference_time [2.55 2.78 1.29 1.35 1.32]\n",
      "\n",
      "Net(\n",
      "  (cnn_module): Sequential(\n",
      "    (0): Sequential(\n",
      "      (0): Conv2d(1, 32, kernel_size=(3, 3), stride=(1, 1), padding=(1, 1), bias=False)\n",
      "      (1): BatchNorm2d(32, eps=1e-05, momentum=0.1, affine=True, track_running_stats=True)\n",
      "      (2): ReLU()\n",
      "    )\n",
      "    (1): Sequential(\n",
      "      (0): MaxPool2d(kernel_size=2, stride=2, padding=0, dilation=1, ceil_mode=False)\n",
      "    )\n",
      "    (2): Sequential(\n",
      "      (0): Conv2d(32, 64, kernel_size=(3, 3), stride=(1, 1), padding=(1, 1), bias=False)\n",
      "      (1): BatchNorm2d(64, eps=1e-05, momentum=0.1, affine=True, track_running_stats=True)\n",
      "      (2): ReLU()\n",
      "    )\n",
      "    (3): Sequential(\n",
      "      (0): MaxPool2d(kernel_size=2, stride=2, padding=0, dilation=1, ceil_mode=False)\n",
      "    )\n",
      "    (4): Sequential(\n",
      "      (0): Conv2d(64, 128, kernel_size=(3, 3), stride=(1, 1), padding=(1, 1), bias=False)\n",
      "      (1): BatchNorm2d(128, eps=1e-05, momentum=0.1, affine=True, track_running_stats=True)\n",
      "      (2): ReLU()\n",
      "    )\n",
      "    (5): Sequential(\n",
      "      (0): AdaptiveAvgPool2d(output_size=1)\n",
      "    )\n",
      "  )\n",
      "  (fc_module): Sequential(\n",
      "    (0): Linear(in_features=128, out_features=10, bias=True)\n",
      "  )\n",
      ")\n",
      "\n",
      "The model has 94186 parameters\n",
      "\n",
      "Subset consists of 3000 samples\n",
      "Epoch 1 \n",
      "Training Accuracy: 1700/3000 (56.67%)\n",
      "epoch took 3.38 seconds\n",
      "Test Accuracy: 6818/10000 (68.18%)\n",
      "inference took 5.24 seconds\n",
      "Epoch 2 \n",
      "Training Accuracy: 2170/3000 (72.33%)\n",
      "epoch took 4.08 seconds\n",
      "Test Accuracy: 7071/10000 (70.71%)\n",
      "inference took 5.35 seconds\n",
      "Epoch 3 \n",
      "Training Accuracy: 2283/3000 (76.10%)\n",
      "epoch took 3.62 seconds\n",
      "Test Accuracy: 7277/10000 (72.77%)\n",
      "inference took 5.52 seconds\n",
      "Epoch 4 \n",
      "Training Accuracy: 2360/3000 (78.67%)\n",
      "epoch took 3.29 seconds\n",
      "Test Accuracy: 7322/10000 (73.22%)\n",
      "inference took 5.31 seconds\n",
      "Epoch 5 \n",
      "Training Accuracy: 2423/3000 (80.77%)\n",
      "epoch took 3.59 seconds\n",
      "Test Accuracy: 6857/10000 (68.57%)\n",
      "inference took 5.16 seconds\n",
      "finished CNN_wide with 3000\n",
      "accuracy [71.52  0.   84.83 86.7  90.48]\n",
      "training_time [ 17.96   0.    40.6   81.93 160.84]\n",
      "inference_time [5.32 0.   1.32 1.33 1.35]\n",
      "\n",
      "Subset consists of 6000 samples\n",
      "Epoch 1 \n",
      "Training Accuracy: 3952/6000 (65.87%)\n",
      "epoch took 6.91 seconds\n",
      "Test Accuracy: 7056/10000 (70.56%)\n",
      "inference took 5.75 seconds\n",
      "Epoch 2 \n",
      "Training Accuracy: 4702/6000 (78.37%)\n",
      "epoch took 7.00 seconds\n",
      "Test Accuracy: 7448/10000 (74.48%)\n",
      "inference took 5.10 seconds\n",
      "Epoch 3 \n",
      "Training Accuracy: 4857/6000 (80.95%)\n",
      "epoch took 6.89 seconds\n",
      "Test Accuracy: 7591/10000 (75.91%)\n",
      "inference took 5.18 seconds\n",
      "Epoch 4 \n",
      "Training Accuracy: 5017/6000 (83.62%)\n",
      "epoch took 6.73 seconds\n",
      "Test Accuracy: 7786/10000 (77.86%)\n",
      "inference took 5.24 seconds\n",
      "Epoch 5 \n",
      "Training Accuracy: 5110/6000 (85.17%)\n",
      "epoch took 6.40 seconds\n",
      "Test Accuracy: 7739/10000 (77.39%)\n",
      "inference took 4.91 seconds\n",
      "finished CNN_wide with 6000\n",
      "accuracy [71.52 77.05 84.83 86.7  90.48]\n",
      "training_time [ 17.96  33.93  40.6   81.93 160.84]\n",
      "inference_time [5.32 5.24 1.32 1.33 1.35]\n",
      "\n",
      "Net(\n",
      "  (cnn_module): Sequential(\n",
      "    (0): Sequential(\n",
      "      (0): Conv2d(1, 16, kernel_size=(3, 3), stride=(1, 1), padding=(1, 1), bias=False)\n",
      "      (1): BatchNorm2d(16, eps=1e-05, momentum=0.1, affine=True, track_running_stats=True)\n",
      "      (2): ReLU()\n",
      "    )\n",
      "    (1): Sequential(\n",
      "      (0): Conv2d(16, 16, kernel_size=(3, 3), stride=(1, 1), padding=(1, 1), bias=False)\n",
      "      (1): BatchNorm2d(16, eps=1e-05, momentum=0.1, affine=True, track_running_stats=True)\n",
      "      (2): ReLU()\n",
      "    )\n",
      "    (2): Sequential(\n",
      "      (0): Conv2d(16, 16, kernel_size=(3, 3), stride=(1, 1), padding=(1, 1), bias=False)\n",
      "      (1): BatchNorm2d(16, eps=1e-05, momentum=0.1, affine=True, track_running_stats=True)\n",
      "      (2): ReLU()\n",
      "    )\n",
      "    (3): Sequential(\n",
      "      (0): MaxPool2d(kernel_size=2, stride=2, padding=0, dilation=1, ceil_mode=False)\n",
      "    )\n",
      "    (4): Sequential(\n",
      "      (0): Conv2d(16, 16, kernel_size=(3, 3), stride=(1, 1), padding=(1, 1), bias=False)\n",
      "      (1): BatchNorm2d(16, eps=1e-05, momentum=0.1, affine=True, track_running_stats=True)\n",
      "      (2): ReLU()\n",
      "    )\n",
      "    (5): Sequential(\n",
      "      (0): Conv2d(16, 16, kernel_size=(3, 3), stride=(1, 1), padding=(1, 1), bias=False)\n",
      "      (1): BatchNorm2d(16, eps=1e-05, momentum=0.1, affine=True, track_running_stats=True)\n",
      "      (2): ReLU()\n",
      "    )\n",
      "    (6): Sequential(\n",
      "      (0): Conv2d(16, 16, kernel_size=(3, 3), stride=(1, 1), padding=(1, 1), bias=False)\n",
      "      (1): BatchNorm2d(16, eps=1e-05, momentum=0.1, affine=True, track_running_stats=True)\n",
      "      (2): ReLU()\n",
      "    )\n",
      "    (7): Sequential(\n",
      "      (0): MaxPool2d(kernel_size=2, stride=2, padding=0, dilation=1, ceil_mode=False)\n",
      "    )\n",
      "    (8): Sequential(\n",
      "      (0): Conv2d(16, 16, kernel_size=(3, 3), stride=(1, 1), padding=(1, 1), bias=False)\n",
      "      (1): BatchNorm2d(16, eps=1e-05, momentum=0.1, affine=True, track_running_stats=True)\n",
      "      (2): ReLU()\n",
      "    )\n",
      "    (9): Sequential(\n",
      "      (0): Conv2d(16, 16, kernel_size=(3, 3), stride=(1, 1), padding=(1, 1), bias=False)\n",
      "      (1): BatchNorm2d(16, eps=1e-05, momentum=0.1, affine=True, track_running_stats=True)\n",
      "      (2): ReLU()\n",
      "    )\n",
      "    (10): Sequential(\n",
      "      (0): Conv2d(16, 16, kernel_size=(3, 3), stride=(1, 1), padding=(1, 1), bias=False)\n",
      "      (1): BatchNorm2d(16, eps=1e-05, momentum=0.1, affine=True, track_running_stats=True)\n",
      "      (2): ReLU()\n",
      "    )\n",
      "    (11): Sequential(\n",
      "      (0): AdaptiveAvgPool2d(output_size=1)\n",
      "    )\n",
      "  )\n",
      "  (fc_module): Sequential(\n",
      "    (0): Linear(in_features=16, out_features=10, bias=True)\n",
      "  )\n",
      ")\n",
      "\n",
      "The model has 19034 parameters\n",
      "\n",
      "Subset consists of 3000 samples\n"
     ]
    },
    {
     "name": "stdout",
     "output_type": "stream",
     "text": [
      "Epoch 1 \n",
      "Training Accuracy: 1138/3000 (37.93%)\n",
      "epoch took 3.33 seconds\n",
      "Test Accuracy: 5875/10000 (58.75%)\n",
      "inference took 4.77 seconds\n",
      "Epoch 2 \n",
      "Training Accuracy: 2047/3000 (68.23%)\n",
      "epoch took 3.28 seconds\n",
      "Test Accuracy: 7082/10000 (70.82%)\n",
      "inference took 4.76 seconds\n",
      "Epoch 3 \n",
      "Training Accuracy: 2180/3000 (72.67%)\n",
      "epoch took 3.31 seconds\n",
      "Test Accuracy: 7020/10000 (70.20%)\n",
      "inference took 4.81 seconds\n",
      "Epoch 4 \n",
      "Training Accuracy: 2256/3000 (75.20%)\n",
      "epoch took 5.36 seconds\n",
      "Test Accuracy: 7141/10000 (71.41%)\n",
      "inference took 5.42 seconds\n",
      "Epoch 5 \n",
      "Training Accuracy: 2353/3000 (78.43%)\n",
      "epoch took 3.93 seconds\n",
      "Test Accuracy: 7437/10000 (74.37%)\n",
      "inference took 5.12 seconds\n",
      "finished CNN_deep with 3000\n",
      "accuracy [71.99  0.   88.95 90.08 91.86]\n",
      "training_time [ 19.21   0.    42.48  82.38 162.91]\n",
      "inference_time [4.98 0.   1.34 1.31 1.32]\n",
      "\n",
      "Subset consists of 6000 samples\n",
      "Epoch 1 \n",
      "Training Accuracy: 2944/6000 (49.07%)\n",
      "epoch took 7.14 seconds\n",
      "Test Accuracy: 6007/10000 (60.07%)\n",
      "inference took 5.66 seconds\n",
      "Epoch 2 \n",
      "Training Accuracy: 4277/6000 (71.28%)\n",
      "epoch took 6.61 seconds\n",
      "Test Accuracy: 7524/10000 (75.24%)\n",
      "inference took 4.98 seconds\n",
      "Epoch 3 \n",
      "Training Accuracy: 4717/6000 (78.62%)\n",
      "epoch took 7.11 seconds\n",
      "Test Accuracy: 7275/10000 (72.75%)\n",
      "inference took 5.25 seconds\n",
      "Epoch 4 \n",
      "Training Accuracy: 4905/6000 (81.75%)\n",
      "epoch took 7.24 seconds\n",
      "Test Accuracy: 8023/10000 (80.23%)\n",
      "inference took 5.16 seconds\n",
      "Epoch 5 \n",
      "Training Accuracy: 4994/6000 (83.23%)\n",
      "epoch took 7.07 seconds\n",
      "Test Accuracy: 8183/10000 (81.83%)\n",
      "inference took 4.84 seconds\n",
      "finished CNN_deep with 6000\n",
      "accuracy [71.99 78.27 88.95 90.08 91.86]\n",
      "training_time [ 19.21  35.17  42.48  82.38 162.91]\n",
      "inference_time [4.98 5.18 1.34 1.31 1.32]\n",
      "\n",
      "Net(\n",
      "  (cnn_module): Sequential(\n",
      "    (0): Sequential(\n",
      "      (0): Conv2d(1, 32, kernel_size=(3, 3), stride=(1, 1), padding=(1, 1), bias=False)\n",
      "      (1): BatchNorm2d(32, eps=1e-05, momentum=0.1, affine=True, track_running_stats=True)\n",
      "      (2): ReLU()\n",
      "    )\n",
      "    (1): Sequential(\n",
      "      (0): MaxPool2d(kernel_size=2, stride=2, padding=0, dilation=1, ceil_mode=False)\n",
      "    )\n",
      "    (2): Sequential(\n",
      "      (0): Conv2d(32, 64, kernel_size=(3, 3), stride=(1, 1), padding=(1, 1), bias=False)\n",
      "      (1): BatchNorm2d(64, eps=1e-05, momentum=0.1, affine=True, track_running_stats=True)\n",
      "      (2): ReLU()\n",
      "    )\n",
      "    (3): Sequential(\n",
      "      (0): MaxPool2d(kernel_size=2, stride=2, padding=0, dilation=1, ceil_mode=False)\n",
      "    )\n",
      "    (4): Sequential(\n",
      "      (0): Conv2d(64, 128, kernel_size=(3, 3), stride=(1, 1), padding=(1, 1), bias=False)\n",
      "      (1): BatchNorm2d(128, eps=1e-05, momentum=0.1, affine=True, track_running_stats=True)\n",
      "      (2): ReLU()\n",
      "    )\n",
      "    (5): Sequential(\n",
      "      (0): AdaptiveMaxPool2d(output_size=1)\n",
      "    )\n",
      "  )\n",
      "  (fc_module): Sequential(\n",
      "    (0): Linear(in_features=128, out_features=10, bias=True)\n",
      "  )\n",
      ")\n",
      "\n",
      "The model has 94186 parameters\n",
      "\n",
      "Subset consists of 3000 samples\n",
      "Epoch 1 \n",
      "Training Accuracy: 2069/3000 (68.97%)\n",
      "epoch took 3.43 seconds\n",
      "Test Accuracy: 7820/10000 (78.20%)\n",
      "inference took 5.80 seconds\n",
      "Epoch 2 \n",
      "Training Accuracy: 2495/3000 (83.17%)\n",
      "epoch took 3.65 seconds\n",
      "Test Accuracy: 8245/10000 (82.45%)\n",
      "inference took 5.79 seconds\n",
      "Epoch 3 \n",
      "Training Accuracy: 2616/3000 (87.20%)\n",
      "epoch took 3.75 seconds\n",
      "Test Accuracy: 8345/10000 (83.45%)\n",
      "inference took 5.88 seconds\n",
      "Epoch 4 \n",
      "Training Accuracy: 2692/3000 (89.73%)\n",
      "epoch took 4.48 seconds\n",
      "Test Accuracy: 8190/10000 (81.90%)\n",
      "inference took 6.75 seconds\n",
      "Epoch 5 \n",
      "Training Accuracy: 2763/3000 (92.10%)\n",
      "epoch took 4.89 seconds\n",
      "Test Accuracy: 8451/10000 (84.51%)\n",
      "inference took 6.31 seconds\n",
      "finished CNN_wide_max with 3000\n",
      "accuracy [83.29  0.   89.57 90.12 91.02]\n",
      "training_time [ 20.2    0.    41.09  82.07 161.16]\n",
      "inference_time [6.11 0.   1.3  1.36 1.33]\n",
      "\n",
      "Subset consists of 6000 samples\n",
      "Epoch 1 \n",
      "Training Accuracy: 4499/6000 (74.98%)\n",
      "epoch took 8.41 seconds\n",
      "Test Accuracy: 8204/10000 (82.04%)\n",
      "inference took 6.25 seconds\n",
      "Epoch 2 \n",
      "Training Accuracy: 5164/6000 (86.07%)\n",
      "epoch took 8.19 seconds\n",
      "Test Accuracy: 8536/10000 (85.36%)\n",
      "inference took 5.94 seconds\n",
      "Epoch 3 \n",
      "Training Accuracy: 5327/6000 (88.78%)\n",
      "epoch took 7.90 seconds\n",
      "Test Accuracy: 8612/10000 (86.12%)\n",
      "inference took 6.37 seconds\n",
      "Epoch 4 \n",
      "Training Accuracy: 5464/6000 (91.07%)\n",
      "epoch took 7.87 seconds\n",
      "Test Accuracy: 8481/10000 (84.81%)\n",
      "inference took 5.79 seconds\n",
      "Epoch 5 \n",
      "Training Accuracy: 5562/6000 (92.70%)\n",
      "epoch took 8.62 seconds\n",
      "Test Accuracy: 8636/10000 (86.36%)\n",
      "inference took 5.69 seconds\n",
      "finished CNN_wide_max with 6000\n",
      "accuracy [83.29 85.76 89.57 90.12 91.02]\n",
      "training_time [ 20.2   40.99  41.09  82.07 161.16]\n",
      "inference_time [6.11 6.01 1.3  1.36 1.33]\n",
      "\n"
     ]
    },
    {
     "data": {
      "text/plain": [
       "{'percentages': array([0.05, 0.1 , 0.25, 0.5 , 1.  ]),\n",
       " 'N_samples': array([3000, 6000]),\n",
       " 'RF_100': {'accuracy': array([82.42, 83.91, 85.67, 86.76, 87.77]),\n",
       "  'training_time': array([ 1.66,  3.8 , 13.22, 29.77, 67.63]),\n",
       "  'inference_time': array([0.22, 0.24, 0.32, 0.35, 0.4 ])},\n",
       " 'RF_500': {'accuracy': array([83.01, 84.29, 85.97, 86.97, 87.86]),\n",
       "  'training_time': array([  8.7 ,  20.11,  65.26, 148.64, 337.84]),\n",
       "  'inference_time': array([1.1 , 1.16, 1.53, 1.72, 1.95])},\n",
       " 'SVM': {'accuracy': array([82.32, 84.13, 86.14, 87.03, 88.28]),\n",
       "  'training_time': array([  0.73,   2.77,  40.43, 130.63, 433.99]),\n",
       "  'inference_time': array([  9.1 ,  20.61,  49.58,  88.61, 157.68])},\n",
       " 'CNN_simple': {'accuracy': array([61.31, 70.86, 83.28, 85.66, 87.9 ]),\n",
       "  'training_time': array([  6.27,  13.4 ,  40.76,  80.33, 162.19]),\n",
       "  'inference_time': array([2.55, 2.78, 1.29, 1.35, 1.32])},\n",
       " 'CNN_wide': {'accuracy': array([71.52, 77.05, 84.83, 86.7 , 90.48]),\n",
       "  'training_time': array([ 17.96,  33.93,  40.6 ,  81.93, 160.84]),\n",
       "  'inference_time': array([5.32, 5.24, 1.32, 1.33, 1.35])},\n",
       " 'CNN_deep': {'accuracy': array([71.99, 78.27, 88.95, 90.08, 91.86]),\n",
       "  'training_time': array([ 19.21,  35.17,  42.48,  82.38, 162.91]),\n",
       "  'inference_time': array([4.98, 5.18, 1.34, 1.31, 1.32])},\n",
       " 'CNN_wide_max': {'accuracy': array([83.29, 85.76, 89.57, 90.12, 91.02]),\n",
       "  'training_time': array([ 20.2 ,  40.99,  41.09,  82.07, 161.16]),\n",
       "  'inference_time': array([6.11, 6.01, 1.3 , 1.36, 1.33])}}"
      ]
     },
     "execution_count": 14,
     "metadata": {},
     "output_type": "execute_result"
    }
   ],
   "source": [
    "## nothing to do here, just execute\n",
    "\n",
    "max_epochs = 5\n",
    "\n",
    "for model_tag in [\"CNN_simple\",\"CNN_wide\",\"CNN_deep\",\"CNN_wide_max\"]:\n",
    "    for i,n_samples in enumerate(experiments[\"N_samples\"]):\n",
    "        if  model_tag == \"CNN_simple\":\n",
    "            ## a simple 'CNN with 3 layers with 16 channels each\n",
    "            model = Net(use_batch_norm=True,n_blocks=3,n_layers=1,channels = 16, multiply_channels=1,global_max=False).to(device)  ## simple\n",
    "        elif model_tag == \"CNN_wide\":\n",
    "            ## a wider version with 3 layers with 16,32 and 64 channels\n",
    "            model = Net(use_batch_norm=True,n_blocks=3,n_layers=1,channels = 32, multiply_channels=2,global_max=False).to(device)  ## wide\n",
    "        elif model_tag == \"CNN_deep\":\n",
    "            ## a deeper version with 9 layers with 16 channels each\n",
    "            model = Net(use_batch_norm=True,n_blocks=3,n_layers=3,channels = 16, multiply_channels=1,global_max=False).to(device)  ## deep\n",
    "        elif model_tag == \"CNN_wide_max\":\n",
    "            ## a wider version with 3 layers with 16, 32 and 64 channels, global maximum pooling\n",
    "            model = Net(use_batch_norm=True,n_blocks=3,n_layers=1,channels = 32, multiply_channels=2,global_max=True).to(device)  ## wide       \n",
    "\n",
    "        optimizer = optim.Adam(model.parameters())\n",
    "        sampler = get_sampler(experiments[\"N_samples\"][i])\n",
    "        train_loader = get_data_loader(use_cuda,64,train=True,sampler=sampler)\n",
    "        test_loader = get_data_loader(use_cuda,128,train=False)\n",
    "\n",
    "        if i == 0:\n",
    "            print(model)\n",
    "            print(\"\\nThe model has {} parameters\\n\".format(sum(p.numel() for p in model.parameters())))\n",
    "            \n",
    "        print(\"Subset consists of {} samples\".format(n_samples))\n",
    "        epoch_times = []\n",
    "        infer_times = []\n",
    "        accuracies = []\n",
    "        for epoch in range(1,max_epochs+1):\n",
    "            start_epoch=time.time()\n",
    "            train(model, device, train_loader, optimizer, epoch)\n",
    "            end_epoch=time.time()\n",
    "            epoch_time = np.round(end_epoch-start_epoch,decimals=2)\n",
    "            epoch_times.append(epoch_time)\n",
    "            \n",
    "            print(\"epoch took {:.2f} seconds\".format(epoch_time))\n",
    "            start_infer = time.time()\n",
    "            accuracies.append(test(model, device, test_loader))\n",
    "            end_infer=time.time()\n",
    "            infer_time = np.round(end_infer-start_infer,decimals=2)\n",
    "            infer_times.append(infer_time)\n",
    "            print(\"inference took {:.2f} seconds\".format(infer_time))\n",
    "        \n",
    "        print(\"finished \" + model_tag + \" with {}\".format(n_samples))\n",
    "        experiments[model_tag][\"accuracy\"][i] = np.round(np.mean(np.array(accuracies[-3:])),decimals=2)  #average over final 3 epochs\n",
    "        experiments[model_tag][\"training_time\"][i] = np.round(np.sum(np.array(epoch_times)),decimals=2)  # sum over all epochs\n",
    "        experiments[model_tag][\"inference_time\"][i] = np.round(np.mean(np.array(infer_times)),decimals=2)  #mean inference time\n",
    "        for k in experiments[model_tag].keys():\n",
    "            print(k, experiments[model_tag][k])\n",
    "        print()\n",
    "\n",
    "experiments"
   ]
  },
  {
   "cell_type": "markdown",
   "metadata": {
    "colab_type": "text",
    "id": "lA-D6NHrDq_K"
   },
   "source": [
    "As a final task, make the following three plots:\n",
    "- accuracies against size of the dataset\n",
    "- inference times against size of the dataset\n",
    "- training times against size of the dataset\n",
    "\n",
    "Compare all six models in each of these three plots and don't forget to label the plots appropriately!"
   ]
  },
  {
   "cell_type": "markdown",
   "metadata": {
    "colab": {
     "base_uri": "https://localhost:8080/",
     "height": 129
    },
    "colab_type": "code",
    "id": "_Y7As1-FYLTJ",
    "outputId": "11185453-bcf3-4540-cfa0-4e8457282aa9"
   },
   "source": [
    "<h3 style=\"color:rgb(208,90,80)\"> 2.2 Code (20 points)</h3>"
   ]
  },
  {
   "cell_type": "code",
   "execution_count": 15,
   "metadata": {
    "colab": {
     "base_uri": "https://localhost:8080/",
     "height": 803
    },
    "colab_type": "code",
    "id": "yHLowqaYYLTL",
    "outputId": "a1fe376c-e688-4f40-ce39-eb5a24daabc3",
    "scrolled": false,
    "tags": [
     "plots"
    ]
   },
   "outputs": [
    {
     "data": {
      "image/png": "[encoded data removed]",
      "text/plain": [
       "<Figure size 720x432 with 1 Axes>"
      ]
     },
     "metadata": {
      "needs_background": "light"
     },
     "output_type": "display_data"
    },
    {
     "data": {
      "image/png": "[encoded data removed]",
      "text/plain": [
       "<Figure size 720x432 with 1 Axes>"
      ]
     },
     "metadata": {
      "needs_background": "light"
     },
     "output_type": "display_data"
    },
    {
     "data": {
      "image/png": "[encoded data removed]",
      "text/plain": [
       "<Figure size 720x432 with 1 Axes>"
      ]
     },
     "metadata": {
      "needs_background": "light"
     },
     "output_type": "display_data"
    }
   ],
   "source": [
    "#Your plots:\n",
    "\n",
    "#your code\n",
    "\n",
    "dataset_size = (60000 * experiments[\"percentages\"]).astype(np.int) \n",
    "\n",
    "# Accuracies against size of the dataset\n",
    "plt.figure(figsize=(10,6))\n",
    "plt.title(\"Accuracies Against Size of the Dataset\")\n",
    "plt.xlabel(\"Dataset Size\")\n",
    "plt.ylabel(\"Accuracy\")\n",
    "\n",
    "for model in experiments.keys():\n",
    "    if model == \"percentages\" or model == \"N_samples\":\n",
    "        continue\n",
    "    \n",
    "    plt.plot(dataset_size, experiments[model][\"accuracy\"], label = model)\n",
    "\n",
    "plt.legend(loc = 'best')\n",
    "plt.show()\n",
    "\n",
    "# Inference times against size of the dataset\n",
    "plt.figure(figsize=(10,6))\n",
    "plt.title(\"Inference Times Against Size of the Dataset\")\n",
    "plt.xlabel(\"Dataset Size\")\n",
    "plt.ylabel(\"Inference Time\")\n",
    "\n",
    "for model in experiments.keys():\n",
    "    if model == \"percentages\" or model == \"N_samples\":\n",
    "        continue\n",
    "  \n",
    "    plt.plot(dataset_size, experiments[model][\"inference_time\"], label = model)\n",
    "\n",
    "plt.legend(loc = 'best')\n",
    "plt.show()\n",
    "\n",
    "# Training times against size of the dataset\n",
    "plt.figure(figsize=(10,6))\n",
    "plt.title(\"Training Times Against Size of the Dataset\")\n",
    "plt.xlabel(\"Dataset Size\")\n",
    "plt.ylabel(\"Training Time\")\n",
    "\n",
    "for model in experiments.keys():\n",
    "    if model == \"percentages\" or model == \"N_samples\":\n",
    "        continue\n",
    "  \n",
    "    plt.plot(dataset_size, experiments[model][\"training_time\"], label = model)\n",
    "\n",
    "plt.legend(loc = 'best')\n",
    "plt.show()"
   ]
  },
  {
   "cell_type": "markdown",
   "metadata": {},
   "source": [
    "<h3 style=\"color:rgb(208,90,80)\">2.3 Question (10 points)</h3>\n",
    "\n",
    "Which statements are correct?\n",
    "\n",
    "a_) Inference and training times indicate that SVMs are not feasible on large data sets.<br>\n",
    "b_) A comparison of different algorithms is fair as long as they are compared on the same problem, i.e. the same training and test data.<br>\n",
    "c_) A comparison of different algorithms should take into account the number of trainable model parameters or the training and inference times.<br>\n",
    "d_) Monitoring the performance on the training data is pointless during training since only the performance on the test data counts.<br>\n",
    "e_) On small data sets, the SVM and Random Forests achieve higher accuracy than the simple CNN.<br>\n",
    "f_) Monitoring the performance on the training data and the test data is necessary to spot over-training.<br>"
   ]
  },
  {
   "cell_type": "code",
   "execution_count": null,
   "metadata": {
    "tags": [
     "Q1"
    ]
   },
   "outputs": [],
   "source": [
    "#your answers go here ↓↓↓\n",
    "a_=True\n",
    "b_=True\n",
    "c_=True\n",
    "d_=False\n",
    "e_=True\n",
    "f_=True"
   ]
  },
  {
   "cell_type": "markdown",
   "metadata": {},
   "source": [
    "The take home messages of this task are:\n",
    "- the model choice depends on the size and complexity of the data set\n",
    "- the model choice is constrained by the available computing and time resources\n",
    "- neural networks are often a good choice for large data sets, e.g. CNNs on computer vision tasks\n",
    "- for smaller problems alternatives like SVM or Random Forests can be more efficient\n",
    "- there is no algorithm that guarantees superior performance on every problem (aka \"No free lunch theorem\")"
   ]
  }
 ],
 "metadata": {
  "accelerator": "GPU",
  "celltoolbar": "Tags",
  "colab": {
   "collapsed_sections": [],
   "name": "Assignment_8_Solution.ipynb",
   "provenance": []
  },
  "kernelspec": {
   "display_name": "Python 3 (ipykernel)",
   "language": "python",
   "name": "python3"
  },
  "language_info": {
   "codemirror_mode": {
    "name": "ipython",
    "version": 3
   },
   "file_extension": ".py",
   "mimetype": "text/x-python",
   "name": "python",
   "nbconvert_exporter": "python",
   "pygments_lexer": "ipython3",
   "version": "3.9.12"
  }
 },
 "nbformat": 4,
 "nbformat_minor": 4
}
